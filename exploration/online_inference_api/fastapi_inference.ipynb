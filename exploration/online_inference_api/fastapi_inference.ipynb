{
 "cells": [
  {
   "cell_type": "code",
   "execution_count": 2,
   "id": "e5260361-8a55-4c88-abe6-e7ef2d06c8d2",
   "metadata": {
    "execution": {
     "iopub.execute_input": "2025-06-12T20:54:40.703206Z",
     "iopub.status.busy": "2025-06-12T20:54:40.702783Z",
     "iopub.status.idle": "2025-06-12T20:54:45.211213Z",
     "shell.execute_reply": "2025-06-12T20:54:45.210459Z",
     "shell.execute_reply.started": "2025-06-12T20:54:40.703174Z"
    }
   },
   "outputs": [
    {
     "name": "stdout",
     "output_type": "stream",
     "text": [
      "sagemaker.config INFO - Not applying SDK defaults from location: /etc/xdg/sagemaker/config.yaml\n",
      "sagemaker.config INFO - Not applying SDK defaults from location: /home/sagemaker-user/.config/sagemaker/config.yaml\n"
     ]
    }
   ],
   "source": [
    "import utils\n",
    "import sagemaker\n",
    "import json\n",
    "import mlflow"
   ]
  },
  {
   "cell_type": "code",
   "execution_count": 22,
   "id": "6dc441ba-c66a-47af-a538-98a6eb7e9841",
   "metadata": {
    "execution": {
     "iopub.execute_input": "2025-06-12T21:19:56.833340Z",
     "iopub.status.busy": "2025-06-12T21:19:56.832694Z",
     "iopub.status.idle": "2025-06-12T21:19:57.127171Z",
     "shell.execute_reply": "2025-06-12T21:19:57.126354Z",
     "shell.execute_reply.started": "2025-06-12T21:19:56.833305Z"
    }
   },
   "outputs": [
    {
     "data": {
      "text/plain": [
       "'arn:aws:iam::654654589924:role/service-role/SageMaker-MLOpsEngineer'"
      ]
     },
     "execution_count": 22,
     "metadata": {},
     "output_type": "execute_result"
    }
   ],
   "source": [
    "# Detecting Execution Role\n",
    "sagemaker.get_execution_role()"
   ]
  },
  {
   "cell_type": "markdown",
   "id": "679de183-a3e3-4c50-bf09-1165270c8b5d",
   "metadata": {},
   "source": [
    "# Loading and saving the MLFlow model locally"
   ]
  },
  {
   "cell_type": "code",
   "execution_count": 4,
   "id": "a5d937a1-948e-4df2-b176-620908b721c3",
   "metadata": {
    "execution": {
     "iopub.execute_input": "2025-06-12T20:54:45.384640Z",
     "iopub.status.busy": "2025-06-12T20:54:45.384089Z",
     "iopub.status.idle": "2025-06-12T20:54:45.387875Z",
     "shell.execute_reply": "2025-06-12T20:54:45.387113Z",
     "shell.execute_reply.started": "2025-06-12T20:54:45.384614Z"
    }
   },
   "outputs": [],
   "source": [
    "# Set tracking server\n",
    "tracking_server_arn = 'arn:aws:sagemaker:us-east-1:654654589924:mlflow-tracking-server/mlops-utec-mlflow-server'\n",
    "mlflow.set_tracking_uri(tracking_server_arn)"
   ]
  },
  {
   "cell_type": "code",
   "execution_count": 5,
   "id": "50e6b08e-d5b3-4edf-b6e3-2591431fcebf",
   "metadata": {
    "execution": {
     "iopub.execute_input": "2025-06-12T20:54:45.389755Z",
     "iopub.status.busy": "2025-06-12T20:54:45.389459Z",
     "iopub.status.idle": "2025-06-12T20:54:47.650689Z",
     "shell.execute_reply": "2025-06-12T20:54:47.647267Z",
     "shell.execute_reply.started": "2025-06-12T20:54:45.389733Z"
    }
   },
   "outputs": [
    {
     "data": {
      "application/vnd.jupyter.widget-view+json": {
       "model_id": "034ee8d47e124896ab81f3496cc802ce",
       "version_major": 2,
       "version_minor": 0
      },
      "text/plain": [
       "Downloading artifacts:   0%|          | 0/10 [00:00<?, ?it/s]"
      ]
     },
     "metadata": {},
     "output_type": "display_data"
    }
   ],
   "source": [
    "# Load model\n",
    "model_name = \"credit-card-fraud-detection\"\n",
    "model_version = \"latest\"\n",
    "model_uri = f\"models:/{model_name}/{model_version}\"\n",
    "model = mlflow.xgboost.load_model(model_uri)"
   ]
  },
  {
   "cell_type": "code",
   "execution_count": 6,
   "id": "0f8765f5-429e-416b-a985-f80f82b4bdb4",
   "metadata": {
    "execution": {
     "iopub.execute_input": "2025-06-12T20:54:52.255092Z",
     "iopub.status.busy": "2025-06-12T20:54:52.254645Z",
     "iopub.status.idle": "2025-06-12T20:55:00.774395Z",
     "shell.execute_reply": "2025-06-12T20:55:00.773656Z",
     "shell.execute_reply.started": "2025-06-12T20:54:52.255069Z"
    }
   },
   "outputs": [
    {
     "name": "stderr",
     "output_type": "stream",
     "text": [
      "/opt/conda/lib/python3.12/site-packages/xgboost/core.py:158: UserWarning: [20:54:52] WARNING: /home/conda/feedstock_root/build_artifacts/xgboost-split_1744329020674/work/src/c_api/c_api.cc:1374: Saving model in the UBJSON format as default.  You can use file extension: `json`, `ubj` or `deprecated` to choose between formats.\n",
      "  warnings.warn(smsg, UserWarning)\n"
     ]
    }
   ],
   "source": [
    "# Save model locally\n",
    "mlflow.xgboost.save_model(model,\"model\")"
   ]
  },
  {
   "cell_type": "markdown",
   "id": "93cfd575-caa6-4ffa-b33a-0930ae755803",
   "metadata": {},
   "source": [
    "# Checking current images"
   ]
  },
  {
   "cell_type": "code",
   "execution_count": 7,
   "id": "94c3b064-0df7-40de-9952-5fd9bc4b65ff",
   "metadata": {
    "execution": {
     "iopub.execute_input": "2025-06-12T20:55:00.776930Z",
     "iopub.status.busy": "2025-06-12T20:55:00.776581Z",
     "iopub.status.idle": "2025-06-12T20:55:00.966150Z",
     "shell.execute_reply": "2025-06-12T20:55:00.965337Z",
     "shell.execute_reply.started": "2025-06-12T20:55:00.776905Z"
    }
   },
   "outputs": [
    {
     "name": "stdout",
     "output_type": "stream",
     "text": [
      "REPOSITORY   TAG       IMAGE ID   CREATED   SIZE\n"
     ]
    }
   ],
   "source": [
    "!docker images"
   ]
  },
  {
   "cell_type": "markdown",
   "id": "aea19843-4e93-4160-b6bc-58c6eb78abd9",
   "metadata": {},
   "source": [
    "# Creating ECR repository"
   ]
  },
  {
   "cell_type": "code",
   "execution_count": 8,
   "id": "00b45614-6fce-4879-a492-5d48a8978b11",
   "metadata": {
    "execution": {
     "iopub.execute_input": "2025-06-12T20:55:05.324012Z",
     "iopub.status.busy": "2025-06-12T20:55:05.323531Z",
     "iopub.status.idle": "2025-06-12T20:55:05.330269Z",
     "shell.execute_reply": "2025-06-12T20:55:05.329411Z",
     "shell.execute_reply.started": "2025-06-12T20:55:05.323982Z"
    }
   },
   "outputs": [
    {
     "data": {
      "text/plain": [
       "'utec-mlops/ricardo-puma/online-prediction/api/rest/fastapi'"
      ]
     },
     "execution_count": 8,
     "metadata": {},
     "output_type": "execute_result"
    }
   ],
   "source": [
    "user = utils.get_username()\n",
    "repository_name = f\"utec-mlops/{user}/online-prediction/api/rest/fastapi\"\n",
    "repository_name"
   ]
  },
  {
   "cell_type": "code",
   "execution_count": 9,
   "id": "0d92dcd4-6f36-49b7-94a7-41e638399964",
   "metadata": {
    "execution": {
     "iopub.execute_input": "2025-06-12T20:55:07.789961Z",
     "iopub.status.busy": "2025-06-12T20:55:07.789267Z",
     "iopub.status.idle": "2025-06-12T20:55:09.333648Z",
     "shell.execute_reply": "2025-06-12T20:55:09.332673Z",
     "shell.execute_reply.started": "2025-06-12T20:55:07.789933Z"
    }
   },
   "outputs": [
    {
     "name": "stdout",
     "output_type": "stream",
     "text": [
      "{\n",
      "    \"repository\": {\n",
      "        \"repositoryArn\": \"arn:aws:ecr:us-east-1:654654589924:repository/utec-mlops/ricardo-puma/online-prediction/api/rest/fastapi\",\n",
      "        \"registryId\": \"654654589924\",\n",
      "        \"repositoryName\": \"utec-mlops/ricardo-puma/online-prediction/api/rest/fastapi\",\n",
      "        \"repositoryUri\": \"654654589924.dkr.ecr.us-east-1.amazonaws.com/utec-mlops/ricardo-puma/online-prediction/api/rest/fastapi\",\n",
      "        \"createdAt\": \"2025-06-12T20:55:09.019000+00:00\",\n",
      "        \"imageTagMutability\": \"MUTABLE\",\n",
      "        \"imageScanningConfiguration\": {\n",
      "            \"scanOnPush\": false\n",
      "        },\n",
      "        \"encryptionConfiguration\": {\n",
      "            \"encryptionType\": \"AES256\"\n",
      "        }\n",
      "    }\n",
      "}\n"
     ]
    }
   ],
   "source": [
    "!aws ecr create-repository --repository-name $repository_name"
   ]
  },
  {
   "cell_type": "markdown",
   "id": "1ad2a6b1-cee4-457f-8883-8ebffc31e33c",
   "metadata": {},
   "source": [
    "# Build image"
   ]
  },
  {
   "cell_type": "code",
   "execution_count": 10,
   "id": "7b9277ea-e646-4007-b145-d384aeaa8b9b",
   "metadata": {
    "execution": {
     "iopub.execute_input": "2025-06-12T20:55:18.705178Z",
     "iopub.status.busy": "2025-06-12T20:55:18.704400Z",
     "iopub.status.idle": "2025-06-12T20:57:08.530672Z",
     "shell.execute_reply": "2025-06-12T20:57:08.529842Z",
     "shell.execute_reply.started": "2025-06-12T20:55:18.705141Z"
    }
   },
   "outputs": [
    {
     "name": "stdout",
     "output_type": "stream",
     "text": [
      "DEPRECATED: The legacy builder is deprecated and will be removed in a future release.\n",
      "            BuildKit is currently disabled; enable it by removing the DOCKER_BUILDKIT=0\n",
      "            environment-variable.\n",
      "\n",
      "Sending build context to Docker daemon  161.3kB\n",
      "Step 1/8 : FROM python:3.8\n",
      "3.8: Pulling from library/python\n",
      "\n",
      "\u001b[1B2bf39133: Pulling fs layer \n",
      "\u001b[1Bff7f31e9: Pulling fs layer \n",
      "\u001b[1Bf2aee8e9: Pulling fs layer \n",
      "\u001b[1B2fe8adba: Pulling fs layer \n",
      "\u001b[1B73e4e6c7: Pulling fs layer \n",
      "\u001b[1Bf13b5f0f: Pulling fs layer \n",
      "\u001b[1BDigest: sha256:d411270700143fa2683cc8264d9fa5d3279fd3b6afff62ae81ea2f9d070e390c\n",
      "Status: Downloaded newer image for python:3.8\n",
      " ---> 3ea6eaad4f17\n",
      "Step 2/8 : WORKDIR /app\n",
      " ---> Running in 6127d8c657a7\n",
      " ---> Removed intermediate container 6127d8c657a7\n",
      " ---> 8fc38c021e7d\n",
      "Step 3/8 : COPY model /app/model\n",
      " ---> 1e0354df2dc4\n",
      "Step 4/8 : COPY app.py requirements.txt /app/\n",
      " ---> ff9a117b0e1a\n",
      "Step 5/8 : RUN pip install --no-cache-dir -r requirements.txt\n",
      " ---> Running in e02bd216d4e1\n",
      "Collecting mlflow==2.13.2\n",
      "  Downloading mlflow-2.13.2-py3-none-any.whl (25.0 MB)\n",
      "     ━━━━━━━━━━━━━━━━━━━━━━━━━━━━━━━━━━━━━━━ 25.0/25.0 MB 206.6 MB/s eta 0:00:00\n",
      "Collecting xgboost==2.1.4\n",
      "  Downloading xgboost-2.1.4-py3-none-manylinux_2_28_x86_64.whl (223.6 MB)\n",
      "     ━━━━━━━━━━━━━━━━━━━━━━━━━━━━━━━━━━━━━ 223.6/223.6 MB 217.5 MB/s eta 0:00:00\n",
      "Collecting numpy\n",
      "  Downloading numpy-1.24.4-cp38-cp38-manylinux_2_17_x86_64.manylinux2014_x86_64.whl (17.3 MB)\n",
      "     ━━━━━━━━━━━━━━━━━━━━━━━━━━━━━━━━━━━━━━━ 17.3/17.3 MB 204.2 MB/s eta 0:00:00\n",
      "Collecting fastapi\n",
      "  Downloading fastapi-0.115.12-py3-none-any.whl (95 kB)\n",
      "     ━━━━━━━━━━━━━━━━━━━━━━━━━━━━━━━━━━━━━━━ 95.2/95.2 kB 217.9 MB/s eta 0:00:00\n",
      "Collecting uvicorn\n",
      "  Downloading uvicorn-0.33.0-py3-none-any.whl (62 kB)\n",
      "     ━━━━━━━━━━━━━━━━━━━━━━━━━━━━━━━━━━━━━━━ 62.3/62.3 kB 167.3 MB/s eta 0:00:00\n",
      "Collecting Flask<4\n",
      "  Downloading flask-3.0.3-py3-none-any.whl (101 kB)\n",
      "     ━━━━━━━━━━━━━━━━━━━━━━━━━━━━━━━━━━━━━ 101.7/101.7 kB 236.1 MB/s eta 0:00:00\n",
      "Collecting pyarrow<16,>=4.0.0\n",
      "  Downloading pyarrow-15.0.2-cp38-cp38-manylinux_2_28_x86_64.whl (38.4 MB)\n",
      "     ━━━━━━━━━━━━━━━━━━━━━━━━━━━━━━━━━━━━━━━ 38.4/38.4 MB 211.4 MB/s eta 0:00:00\n",
      "Collecting gunicorn<23\n",
      "  Downloading gunicorn-22.0.0-py3-none-any.whl (84 kB)\n",
      "     ━━━━━━━━━━━━━━━━━━━━━━━━━━━━━━━━━━━━━━━ 84.4/84.4 kB 221.5 MB/s eta 0:00:00\n",
      "Collecting sqlalchemy<3,>=1.4.0\n",
      "  Downloading sqlalchemy-2.0.41-cp38-cp38-manylinux_2_17_x86_64.manylinux2014_x86_64.whl (3.2 MB)\n",
      "     ━━━━━━━━━━━━━━━━━━━━━━━━━━━━━━━━━━━━━━━━ 3.2/3.2 MB 229.8 MB/s eta 0:00:00\n",
      "Collecting packaging<25\n",
      "  Downloading packaging-24.2-py3-none-any.whl (65 kB)\n",
      "     ━━━━━━━━━━━━━━━━━━━━━━━━━━━━━━━━━━━━━━━ 65.5/65.5 kB 213.6 MB/s eta 0:00:00\n",
      "Collecting matplotlib<4\n",
      "  Downloading matplotlib-3.7.5-cp38-cp38-manylinux_2_12_x86_64.manylinux2010_x86_64.whl (9.2 MB)\n",
      "     ━━━━━━━━━━━━━━━━━━━━━━━━━━━━━━━━━━━━━━━━ 9.2/9.2 MB 221.9 MB/s eta 0:00:00\n",
      "Collecting pyyaml<7,>=5.1\n",
      "  Downloading PyYAML-6.0.2-cp38-cp38-manylinux_2_17_x86_64.manylinux2014_x86_64.whl (746 kB)\n",
      "     ━━━━━━━━━━━━━━━━━━━━━━━━━━━━━━━━━━━━━ 746.5/746.5 kB 262.7 MB/s eta 0:00:00\n",
      "Collecting requests<3,>=2.17.3\n",
      "  Downloading requests-2.32.4-py3-none-any.whl (64 kB)\n",
      "     ━━━━━━━━━━━━━━━━━━━━━━━━━━━━━━━━━━━━━━━ 64.8/64.8 kB 212.6 MB/s eta 0:00:00\n",
      "Collecting scikit-learn<2\n",
      "  Downloading scikit_learn-1.3.2-cp38-cp38-manylinux_2_17_x86_64.manylinux2014_x86_64.whl (11.1 MB)\n",
      "     ━━━━━━━━━━━━━━━━━━━━━━━━━━━━━━━━━━━━━━━ 11.1/11.1 MB 206.2 MB/s eta 0:00:00\n",
      "Collecting querystring-parser<2\n",
      "  Downloading querystring_parser-1.2.4-py2.py3-none-any.whl (7.9 kB)\n",
      "Collecting opentelemetry-api<3,>=1.0.0\n",
      "  Downloading opentelemetry_api-1.33.1-py3-none-any.whl (65 kB)\n",
      "     ━━━━━━━━━━━━━━━━━━━━━━━━━━━━━━━━━━━━━━━ 65.8/65.8 kB 191.6 MB/s eta 0:00:00\n",
      "Collecting gitpython<4,>=3.1.9\n",
      "  Downloading GitPython-3.1.44-py3-none-any.whl (207 kB)\n",
      "     ━━━━━━━━━━━━━━━━━━━━━━━━━━━━━━━━━━━━━ 207.6/207.6 kB 217.4 MB/s eta 0:00:00\n",
      "Collecting pandas<3\n",
      "  Downloading pandas-2.0.3-cp38-cp38-manylinux_2_17_x86_64.manylinux2014_x86_64.whl (12.4 MB)\n",
      "     ━━━━━━━━━━━━━━━━━━━━━━━━━━━━━━━━━━━━━━━ 12.4/12.4 MB 192.2 MB/s eta 0:00:00\n",
      "Collecting sqlparse<1,>=0.4.0\n",
      "  Downloading sqlparse-0.5.3-py3-none-any.whl (44 kB)\n",
      "     ━━━━━━━━━━━━━━━━━━━━━━━━━━━━━━━━━━━━━━━ 44.4/44.4 kB 165.9 MB/s eta 0:00:00\n",
      "Collecting cloudpickle<4\n",
      "  Downloading cloudpickle-3.1.1-py3-none-any.whl (20 kB)\n",
      "Collecting entrypoints<1\n",
      "  Downloading entrypoints-0.4-py3-none-any.whl (5.3 kB)\n",
      "Collecting protobuf<5,>=3.12.0\n",
      "  Downloading protobuf-4.25.8-cp37-abi3-manylinux2014_x86_64.whl (294 kB)\n",
      "     ━━━━━━━━━━━━━━━━━━━━━━━━━━━━━━━━━━━━━ 294.9/294.9 kB 258.6 MB/s eta 0:00:00\n",
      "Collecting opentelemetry-sdk<3,>=1.0.0\n",
      "  Downloading opentelemetry_sdk-1.33.1-py3-none-any.whl (118 kB)\n",
      "     ━━━━━━━━━━━━━━━━━━━━━━━━━━━━━━━━━━━━━ 119.0/119.0 kB 202.4 MB/s eta 0:00:00\n",
      "Collecting click<9,>=7.0\n",
      "  Downloading click-8.1.8-py3-none-any.whl (98 kB)\n",
      "     ━━━━━━━━━━━━━━━━━━━━━━━━━━━━━━━━━━━━━━━ 98.2/98.2 kB 227.6 MB/s eta 0:00:00\n",
      "Collecting markdown<4,>=3.3\n",
      "  Downloading Markdown-3.7-py3-none-any.whl (106 kB)\n",
      "     ━━━━━━━━━━━━━━━━━━━━━━━━━━━━━━━━━━━━━ 106.3/106.3 kB 182.4 MB/s eta 0:00:00\n",
      "Collecting scipy<2\n",
      "  Downloading scipy-1.10.1-cp38-cp38-manylinux_2_17_x86_64.manylinux2014_x86_64.whl (34.5 MB)\n",
      "     ━━━━━━━━━━━━━━━━━━━━━━━━━━━━━━━━━━━━━━━ 34.5/34.5 MB 222.9 MB/s eta 0:00:00\n",
      "Collecting importlib-metadata!=4.7.0,<8,>=3.7.0\n",
      "  Downloading importlib_metadata-7.2.1-py3-none-any.whl (25 kB)\n",
      "Collecting cachetools<6,>=5.0.0\n",
      "  Downloading cachetools-5.5.2-py3-none-any.whl (10 kB)\n",
      "Collecting Jinja2<4,>=2.11\n",
      "  Downloading jinja2-3.1.6-py3-none-any.whl (134 kB)\n",
      "     ━━━━━━━━━━━━━━━━━━━━━━━━━━━━━━━━━━━━━ 134.9/134.9 kB 167.0 MB/s eta 0:00:00\n",
      "Collecting alembic!=1.10.0,<2\n",
      "  Downloading alembic-1.14.1-py3-none-any.whl (233 kB)\n",
      "     ━━━━━━━━━━━━━━━━━━━━━━━━━━━━━━━━━━━━━ 233.6/233.6 kB 257.9 MB/s eta 0:00:00\n",
      "Collecting docker<8,>=4.0.0\n",
      "  Downloading docker-7.1.0-py3-none-any.whl (147 kB)\n",
      "     ━━━━━━━━━━━━━━━━━━━━━━━━━━━━━━━━━━━━━ 147.8/147.8 kB 243.8 MB/s eta 0:00:00\n",
      "Collecting graphene<4\n",
      "  Downloading graphene-3.4.3-py2.py3-none-any.whl (114 kB)\n",
      "     ━━━━━━━━━━━━━━━━━━━━━━━━━━━━━━━━━━━━━ 114.9/114.9 kB 238.1 MB/s eta 0:00:00\n",
      "Collecting pytz<2025\n",
      "  Downloading pytz-2024.2-py2.py3-none-any.whl (508 kB)\n",
      "     ━━━━━━━━━━━━━━━━━━━━━━━━━━━━━━━━━━━━━ 508.0/508.0 kB 259.1 MB/s eta 0:00:00\n",
      "Collecting nvidia-nccl-cu12\n",
      "  Downloading nvidia_nccl_cu12-2.27.3-py3-none-manylinux2014_x86_64.manylinux_2_17_x86_64.whl (322.4 MB)\n",
      "     ━━━━━━━━━━━━━━━━━━━━━━━━━━━━━━━━━━━━━ 322.4/322.4 MB 207.2 MB/s eta 0:00:00\n",
      "Collecting starlette<0.47.0,>=0.40.0\n",
      "  Downloading starlette-0.44.0-py3-none-any.whl (73 kB)\n",
      "     ━━━━━━━━━━━━━━━━━━━━━━━━━━━━━━━━━━━━━━━ 73.4/73.4 kB 192.8 MB/s eta 0:00:00\n",
      "Collecting pydantic!=1.8,!=1.8.1,!=2.0.0,!=2.0.1,!=2.1.0,<3.0.0,>=1.7.4\n",
      "  Downloading pydantic-2.10.6-py3-none-any.whl (431 kB)\n",
      "     ━━━━━━━━━━━━━━━━━━━━━━━━━━━━━━━━━━━━━ 431.7/431.7 kB 260.2 MB/s eta 0:00:00\n",
      "Collecting typing-extensions>=4.8.0\n",
      "  Downloading typing_extensions-4.13.2-py3-none-any.whl (45 kB)\n",
      "     ━━━━━━━━━━━━━━━━━━━━━━━━━━━━━━━━━━━━━━━ 45.8/45.8 kB 184.3 MB/s eta 0:00:00\n",
      "Collecting h11>=0.8\n",
      "  Downloading h11-0.16.0-py3-none-any.whl (37 kB)\n",
      "Collecting importlib-resources\n",
      "  Downloading importlib_resources-6.4.5-py3-none-any.whl (36 kB)\n",
      "Collecting Mako\n",
      "  Downloading mako-1.3.10-py3-none-any.whl (78 kB)\n",
      "     ━━━━━━━━━━━━━━━━━━━━━━━━━━━━━━━━━━━━━━━ 78.5/78.5 kB 222.5 MB/s eta 0:00:00\n",
      "Collecting urllib3>=1.26.0\n",
      "  Downloading urllib3-2.2.3-py3-none-any.whl (126 kB)\n",
      "     ━━━━━━━━━━━━━━━━━━━━━━━━━━━━━━━━━━━━━ 126.3/126.3 kB 178.3 MB/s eta 0:00:00\n",
      "Collecting itsdangerous>=2.1.2\n",
      "  Downloading itsdangerous-2.2.0-py3-none-any.whl (16 kB)\n",
      "Collecting blinker>=1.6.2\n",
      "  Downloading blinker-1.8.2-py3-none-any.whl (9.5 kB)\n",
      "Collecting Werkzeug>=3.0.0\n",
      "  Downloading werkzeug-3.0.6-py3-none-any.whl (227 kB)\n",
      "     ━━━━━━━━━━━━━━━━━━━━━━━━━━━━━━━━━━━━━ 228.0/228.0 kB 248.8 MB/s eta 0:00:00\n",
      "Collecting gitdb<5,>=4.0.1\n",
      "  Downloading gitdb-4.0.12-py3-none-any.whl (62 kB)\n",
      "     ━━━━━━━━━━━━━━━━━━━━━━━━━━━━━━━━━━━━━━━ 62.8/62.8 kB 177.9 MB/s eta 0:00:00\n",
      "Collecting graphql-core<3.3,>=3.1\n",
      "  Downloading graphql_core-3.2.6-py3-none-any.whl (203 kB)\n",
      "     ━━━━━━━━━━━━━━━━━━━━━━━━━━━━━━━━━━━━━ 203.4/203.4 kB 259.9 MB/s eta 0:00:00\n",
      "Collecting python-dateutil<3,>=2.7.0\n",
      "  Downloading python_dateutil-2.9.0.post0-py2.py3-none-any.whl (229 kB)\n",
      "     ━━━━━━━━━━━━━━━━━━━━━━━━━━━━━━━━━━━━━ 229.9/229.9 kB 213.0 MB/s eta 0:00:00\n",
      "Collecting graphql-relay<3.3,>=3.1\n",
      "  Downloading graphql_relay-3.2.0-py3-none-any.whl (16 kB)\n",
      "Collecting zipp>=0.5\n",
      "  Downloading zipp-3.20.2-py3-none-any.whl (9.2 kB)\n",
      "Collecting MarkupSafe>=2.0\n",
      "  Downloading MarkupSafe-2.1.5-cp38-cp38-manylinux_2_17_x86_64.manylinux2014_x86_64.whl (26 kB)\n",
      "Collecting contourpy>=1.0.1\n",
      "  Downloading contourpy-1.1.1-cp38-cp38-manylinux_2_17_x86_64.manylinux2014_x86_64.whl (301 kB)\n",
      "     ━━━━━━━━━━━━━━━━━━━━━━━━━━━━━━━━━━━━━ 301.1/301.1 kB 253.4 MB/s eta 0:00:00\n",
      "Collecting pyparsing>=2.3.1\n",
      "  Downloading pyparsing-3.1.4-py3-none-any.whl (104 kB)\n",
      "     ━━━━━━━━━━━━━━━━━━━━━━━━━━━━━━━━━━━━━ 104.1/104.1 kB 205.1 MB/s eta 0:00:00\n",
      "Collecting fonttools>=4.22.0\n",
      "  Downloading fonttools-4.57.0-cp38-cp38-manylinux_2_17_x86_64.manylinux2014_x86_64.whl (4.7 MB)\n",
      "     ━━━━━━━━━━━━━━━━━━━━━━━━━━━━━━━━━━━━━━━━ 4.7/4.7 MB 191.6 MB/s eta 0:00:00\n",
      "Collecting kiwisolver>=1.0.1\n",
      "  Downloading kiwisolver-1.4.7-cp38-cp38-manylinux_2_5_x86_64.manylinux1_x86_64.whl (1.2 MB)\n",
      "     ━━━━━━━━━━━━━━━━━━━━━━━━━━━━━━━━━━━━━━━━ 1.2/1.2 MB 208.1 MB/s eta 0:00:00\n",
      "Collecting cycler>=0.10\n",
      "  Downloading cycler-0.12.1-py3-none-any.whl (8.3 kB)\n",
      "Collecting pillow>=6.2.0\n",
      "  Downloading pillow-10.4.0-cp38-cp38-manylinux_2_28_x86_64.whl (4.5 MB)\n",
      "     ━━━━━━━━━━━━━━━━━━━━━━━━━━━━━━━━━━━━━━━━ 4.5/4.5 MB 177.7 MB/s eta 0:00:00\n",
      "Collecting deprecated>=1.2.6\n",
      "  Downloading Deprecated-1.2.18-py2.py3-none-any.whl (10.0 kB)\n",
      "Collecting opentelemetry-semantic-conventions==0.54b1\n",
      "  Downloading opentelemetry_semantic_conventions-0.54b1-py3-none-any.whl (194 kB)\n",
      "     ━━━━━━━━━━━━━━━━━━━━━━━━━━━━━━━━━━━━━ 194.9/194.9 kB 253.5 MB/s eta 0:00:00\n",
      "Collecting tzdata>=2022.1\n",
      "  Downloading tzdata-2025.2-py2.py3-none-any.whl (347 kB)\n",
      "     ━━━━━━━━━━━━━━━━━━━━━━━━━━━━━━━━━━━━━ 347.8/347.8 kB 268.7 MB/s eta 0:00:00\n",
      "Collecting annotated-types>=0.6.0\n",
      "  Downloading annotated_types-0.7.0-py3-none-any.whl (13 kB)\n",
      "Collecting pydantic-core==2.27.2\n",
      "  Downloading pydantic_core-2.27.2-cp38-cp38-manylinux_2_17_x86_64.manylinux2014_x86_64.whl (2.0 MB)\n",
      "     ━━━━━━━━━━━━━━━━━━━━━━━━━━━━━━━━━━━━━━━━ 2.0/2.0 MB 211.1 MB/s eta 0:00:00\n",
      "Collecting six\n",
      "  Downloading six-1.17.0-py2.py3-none-any.whl (11 kB)\n",
      "Collecting idna<4,>=2.5\n",
      "  Downloading idna-3.10-py3-none-any.whl (70 kB)\n",
      "     ━━━━━━━━━━━━━━━━━━━━━━━━━━━━━━━━━━━━━━━ 70.4/70.4 kB 203.9 MB/s eta 0:00:00\n",
      "Collecting certifi>=2017.4.17\n",
      "  Downloading certifi-2025.4.26-py3-none-any.whl (159 kB)\n",
      "     ━━━━━━━━━━━━━━━━━━━━━━━━━━━━━━━━━━━━━ 159.6/159.6 kB 243.2 MB/s eta 0:00:00\n",
      "Collecting charset_normalizer<4,>=2\n",
      "  Downloading charset_normalizer-3.4.2-cp38-cp38-manylinux_2_17_x86_64.manylinux2014_x86_64.whl (147 kB)\n",
      "     ━━━━━━━━━━━━━━━━━━━━━━━━━━━━━━━━━━━━━ 147.4/147.4 kB 229.5 MB/s eta 0:00:00\n",
      "Collecting threadpoolctl>=2.0.0\n",
      "  Downloading threadpoolctl-3.5.0-py3-none-any.whl (18 kB)\n",
      "Collecting joblib>=1.1.1\n",
      "  Downloading joblib-1.4.2-py3-none-any.whl (301 kB)\n",
      "     ━━━━━━━━━━━━━━━━━━━━━━━━━━━━━━━━━━━━━ 301.8/301.8 kB 246.9 MB/s eta 0:00:00\n",
      "Collecting greenlet>=1\n",
      "  Downloading greenlet-3.1.1-cp38-cp38-manylinux_2_24_x86_64.manylinux_2_28_x86_64.whl (605 kB)\n",
      "     ━━━━━━━━━━━━━━━━━━━━━━━━━━━━━━━━━━━━━ 606.0/606.0 kB 196.8 MB/s eta 0:00:00\n",
      "Collecting anyio<5,>=3.4.0\n",
      "  Downloading anyio-4.5.2-py3-none-any.whl (89 kB)\n",
      "     ━━━━━━━━━━━━━━━━━━━━━━━━━━━━━━━━━━━━━━━ 89.8/89.8 kB 232.7 MB/s eta 0:00:00\n",
      "Collecting sniffio>=1.1\n",
      "  Downloading sniffio-1.3.1-py3-none-any.whl (10 kB)\n",
      "Collecting exceptiongroup>=1.0.2\n",
      "  Downloading exceptiongroup-1.3.0-py3-none-any.whl (16 kB)\n",
      "Collecting wrapt<2,>=1.10\n",
      "  Downloading wrapt-1.17.2-cp38-cp38-manylinux_2_5_x86_64.manylinux1_x86_64.manylinux_2_17_x86_64.manylinux2014_x86_64.whl (85 kB)\n",
      "     ━━━━━━━━━━━━━━━━━━━━━━━━━━━━━━━━━━━━━━━ 85.6/85.6 kB 229.8 MB/s eta 0:00:00\n",
      "Collecting smmap<6,>=3.0.1\n",
      "  Downloading smmap-5.0.2-py3-none-any.whl (24 kB)\n",
      "Installing collected packages: pytz, zipp, wrapt, urllib3, tzdata, typing-extensions, threadpoolctl, sqlparse, sniffio, smmap, six, pyyaml, pyparsing, protobuf, pillow, packaging, nvidia-nccl-cu12, numpy, MarkupSafe, kiwisolver, joblib, itsdangerous, idna, h11, greenlet, fonttools, entrypoints, cycler, cloudpickle, click, charset_normalizer, certifi, cachetools, blinker, Werkzeug, uvicorn, sqlalchemy, scipy, requests, querystring-parser, python-dateutil, pydantic-core, pyarrow, Mako, Jinja2, importlib-resources, importlib-metadata, gunicorn, graphql-core, gitdb, exceptiongroup, deprecated, contourpy, annotated-types, xgboost, scikit-learn, pydantic, pandas, opentelemetry-api, matplotlib, markdown, graphql-relay, gitpython, Flask, docker, anyio, alembic, starlette, opentelemetry-semantic-conventions, graphene, opentelemetry-sdk, fastapi, mlflow\n",
      "Successfully installed Flask-3.0.3 Jinja2-3.1.6 Mako-1.3.10 MarkupSafe-2.1.5 Werkzeug-3.0.6 alembic-1.14.1 annotated-types-0.7.0 anyio-4.5.2 blinker-1.8.2 cachetools-5.5.2 certifi-2025.4.26 charset_normalizer-3.4.2 click-8.1.8 cloudpickle-3.1.1 contourpy-1.1.1 cycler-0.12.1 deprecated-1.2.18 docker-7.1.0 entrypoints-0.4 exceptiongroup-1.3.0 fastapi-0.115.12 fonttools-4.57.0 gitdb-4.0.12 gitpython-3.1.44 graphene-3.4.3 graphql-core-3.2.6 graphql-relay-3.2.0 greenlet-3.1.1 gunicorn-22.0.0 h11-0.16.0 idna-3.10 importlib-metadata-7.2.1 importlib-resources-6.4.5 itsdangerous-2.2.0 joblib-1.4.2 kiwisolver-1.4.7 markdown-3.7 matplotlib-3.7.5 mlflow-2.13.2 numpy-1.24.4 nvidia-nccl-cu12-2.27.3 opentelemetry-api-1.33.1 opentelemetry-sdk-1.33.1 opentelemetry-semantic-conventions-0.54b1 packaging-24.2 pandas-2.0.3 pillow-10.4.0 protobuf-4.25.8 pyarrow-15.0.2 pydantic-2.10.6 pydantic-core-2.27.2 pyparsing-3.1.4 python-dateutil-2.9.0.post0 pytz-2024.2 pyyaml-6.0.2 querystring-parser-1.2.4 requests-2.32.4 scikit-learn-1.3.2 scipy-1.10.1 six-1.17.0 smmap-5.0.2 sniffio-1.3.1 sqlalchemy-2.0.41 sqlparse-0.5.3 starlette-0.44.0 threadpoolctl-3.5.0 typing-extensions-4.13.2 tzdata-2025.2 urllib3-2.2.3 uvicorn-0.33.0 wrapt-1.17.2 xgboost-2.1.4 zipp-3.20.2\n",
      "\u001b[91mWARNING: Running pip as the 'root' user can result in broken permissions and conflicting behaviour with the system package manager. It is recommended to use a virtual environment instead: https://pip.pypa.io/warnings/venv\n",
      "\u001b[0m\u001b[91m\n",
      "[notice] A new release of pip is available: 23.0.1 -> 25.0.1\n",
      "[notice] To update, run: pip install --upgrade pip\n",
      "\u001b[0m ---> Removed intermediate container e02bd216d4e1\n",
      " ---> e8b2fb6be244\n",
      "Step 6/8 : EXPOSE 8000\n",
      " ---> Running in 644f049fae55\n",
      " ---> Removed intermediate container 644f049fae55\n",
      " ---> 3700dc996992\n",
      "Step 7/8 : CMD [\"uvicorn\", \"app:app\", \"--host\", \"0.0.0.0\", \"--port\", \"8000\"]\n",
      " ---> Running in a0f2470c0e2c\n",
      " ---> Removed intermediate container a0f2470c0e2c\n",
      " ---> b816df0ca158\n",
      "Step 8/8 : LABEL com.amazon.studio.user.resources=true\n",
      " ---> Running in b7c4b20c3e64\n",
      " ---> Removed intermediate container b7c4b20c3e64\n",
      " ---> cc6e2b6e5849\n",
      "Successfully built cc6e2b6e5849\n",
      "Successfully tagged utec-mlops/ricardo-puma/online-prediction/api/rest/fastapi:latest\n"
     ]
    }
   ],
   "source": [
    "!docker build --network sagemaker --no-cache -t $repository_name ."
   ]
  },
  {
   "cell_type": "markdown",
   "id": "2c222cc0-bfce-4ea3-adbb-6a5839232f76",
   "metadata": {},
   "source": [
    "# Checking current images"
   ]
  },
  {
   "cell_type": "code",
   "execution_count": 11,
   "id": "0a0c2aa5-cf65-49be-baa3-483a832b7e6c",
   "metadata": {
    "execution": {
     "iopub.execute_input": "2025-06-12T20:58:02.945745Z",
     "iopub.status.busy": "2025-06-12T20:58:02.945334Z",
     "iopub.status.idle": "2025-06-12T20:58:03.175070Z",
     "shell.execute_reply": "2025-06-12T20:58:03.174261Z",
     "shell.execute_reply.started": "2025-06-12T20:58:02.945717Z"
    }
   },
   "outputs": [
    {
     "name": "stdout",
     "output_type": "stream",
     "text": [
      "REPOSITORY                                                   TAG       IMAGE ID       CREATED          SIZE\n",
      "utec-mlops/ricardo-puma/online-prediction/api/rest/fastapi   latest    cc6e2b6e5849   55 seconds ago   2.43GB\n"
     ]
    }
   ],
   "source": [
    "!docker images"
   ]
  },
  {
   "cell_type": "markdown",
   "id": "2fc97fdb-e502-4659-b666-1b406365151c",
   "metadata": {},
   "source": [
    "# Login to ECR"
   ]
  },
  {
   "cell_type": "code",
   "execution_count": 12,
   "id": "c1b5fe6a-d082-4993-a0b8-9c30bb031352",
   "metadata": {
    "execution": {
     "iopub.execute_input": "2025-06-12T20:58:07.748588Z",
     "iopub.status.busy": "2025-06-12T20:58:07.748200Z",
     "iopub.status.idle": "2025-06-12T20:58:07.753321Z",
     "shell.execute_reply": "2025-06-12T20:58:07.752048Z",
     "shell.execute_reply.started": "2025-06-12T20:58:07.748556Z"
    }
   },
   "outputs": [],
   "source": [
    "ecr_url = \"654654589924.dkr.ecr.us-east-1.amazonaws.com\""
   ]
  },
  {
   "cell_type": "code",
   "execution_count": 13,
   "id": "45d72c83-24ed-419c-a69b-52be11d9a506",
   "metadata": {
    "execution": {
     "iopub.execute_input": "2025-06-12T20:58:15.666055Z",
     "iopub.status.busy": "2025-06-12T20:58:15.665213Z",
     "iopub.status.idle": "2025-06-12T20:58:17.234358Z",
     "shell.execute_reply": "2025-06-12T20:58:17.233478Z",
     "shell.execute_reply.started": "2025-06-12T20:58:15.666024Z"
    }
   },
   "outputs": [
    {
     "name": "stdout",
     "output_type": "stream",
     "text": [
      "WARNING! Your password will be stored unencrypted in /home/sagemaker-user/.docker/config.json.\n",
      "Configure a credential helper to remove this warning. See\n",
      "https://docs.docker.com/engine/reference/commandline/login/#credential-stores\n",
      "\n",
      "Login Succeeded\n"
     ]
    }
   ],
   "source": [
    "!aws ecr get-login-password --region us-east-1 | docker login --username AWS --password-stdin $ecr_url"
   ]
  },
  {
   "cell_type": "markdown",
   "id": "6dbbfacc-ac47-404d-b41e-74627361e88e",
   "metadata": {},
   "source": [
    "# Tag image"
   ]
  },
  {
   "cell_type": "code",
   "execution_count": 14,
   "id": "408b3111-0b8c-400a-847d-bf059e08e180",
   "metadata": {
    "execution": {
     "iopub.execute_input": "2025-06-12T20:58:26.450569Z",
     "iopub.status.busy": "2025-06-12T20:58:26.450056Z",
     "iopub.status.idle": "2025-06-12T20:58:26.455904Z",
     "shell.execute_reply": "2025-06-12T20:58:26.454750Z",
     "shell.execute_reply.started": "2025-06-12T20:58:26.450538Z"
    }
   },
   "outputs": [
    {
     "name": "stdout",
     "output_type": "stream",
     "text": [
      "utec-mlops/ricardo-puma/online-prediction/api/rest/fastapi:latest\n",
      "654654589924.dkr.ecr.us-east-1.amazonaws.com/utec-mlops/ricardo-puma/online-prediction/api/rest/fastapi:latest\n"
     ]
    }
   ],
   "source": [
    "tag_name = f\"{repository_name}:latest\"\n",
    "full_tag_name = f\"{ecr_url}/{tag_name}\"\n",
    "print(tag_name)\n",
    "print(full_tag_name)"
   ]
  },
  {
   "cell_type": "code",
   "execution_count": 15,
   "id": "8fef7a3f-c398-4cd9-bfd6-5b46d5ea42dd",
   "metadata": {
    "execution": {
     "iopub.execute_input": "2025-06-12T20:58:28.714079Z",
     "iopub.status.busy": "2025-06-12T20:58:28.713803Z",
     "iopub.status.idle": "2025-06-12T20:58:28.903897Z",
     "shell.execute_reply": "2025-06-12T20:58:28.902890Z",
     "shell.execute_reply.started": "2025-06-12T20:58:28.714058Z"
    }
   },
   "outputs": [],
   "source": [
    "!docker tag $tag_name $full_tag_name"
   ]
  },
  {
   "cell_type": "markdown",
   "id": "ede93500-0e61-4bf0-bf69-c0219224d26f",
   "metadata": {},
   "source": [
    "# Checking current images"
   ]
  },
  {
   "cell_type": "code",
   "execution_count": 16,
   "id": "10fd6fb2-44ad-42f0-9a0b-920a89959009",
   "metadata": {
    "execution": {
     "iopub.execute_input": "2025-06-12T20:58:31.292619Z",
     "iopub.status.busy": "2025-06-12T20:58:31.292325Z",
     "iopub.status.idle": "2025-06-12T20:58:31.481890Z",
     "shell.execute_reply": "2025-06-12T20:58:31.481057Z",
     "shell.execute_reply.started": "2025-06-12T20:58:31.292594Z"
    }
   },
   "outputs": [
    {
     "name": "stdout",
     "output_type": "stream",
     "text": [
      "REPOSITORY                                                                                                TAG       IMAGE ID       CREATED              SIZE\n",
      "654654589924.dkr.ecr.us-east-1.amazonaws.com/utec-mlops/ricardo-puma/online-prediction/api/rest/fastapi   latest    cc6e2b6e5849   About a minute ago   2.43GB\n",
      "utec-mlops/ricardo-puma/online-prediction/api/rest/fastapi                                                latest    cc6e2b6e5849   About a minute ago   2.43GB\n"
     ]
    }
   ],
   "source": [
    "!docker images"
   ]
  },
  {
   "cell_type": "markdown",
   "id": "946dd369-bcdf-4dae-a0df-89333fb68e3e",
   "metadata": {},
   "source": [
    "# Push image to ECR"
   ]
  },
  {
   "cell_type": "code",
   "execution_count": 17,
   "id": "98c6e395-c151-4c9c-ada9-84e985413301",
   "metadata": {
    "execution": {
     "iopub.execute_input": "2025-06-12T20:58:59.584057Z",
     "iopub.status.busy": "2025-06-12T20:58:59.583731Z",
     "iopub.status.idle": "2025-06-12T21:00:53.962747Z",
     "shell.execute_reply": "2025-06-12T21:00:53.961884Z",
     "shell.execute_reply.started": "2025-06-12T20:58:59.584030Z"
    }
   },
   "outputs": [
    {
     "name": "stdout",
     "output_type": "stream",
     "text": [
      "The push refers to repository [654654589924.dkr.ecr.us-east-1.amazonaws.com/utec-mlops/ricardo-puma/online-prediction/api/rest/fastapi]\n",
      "\n",
      "\u001b[1Bfa672ce1: Preparing \n",
      "\u001b[1B28026ad9: Preparing \n",
      "\u001b[1Ba2573129: Preparing \n",
      "\u001b[1Bd92e2b01: Preparing \n",
      "\u001b[1B710ca3c7: Preparing \n",
      "\u001b[1Be4d52b5a: Preparing \n",
      "\u001b[1B8afd69b3: Preparing \n",
      "\u001b[1B433c3a29: Preparing \n",
      "\u001b[1Bc7a486d9: Preparing \n",
      "\u001b[1Ba6961052: Preparing \n",
      "\u001b[11Blatest: digest: sha256:e51714f4824442d0b1056b4d2775b45010600378cec86b0290a06f87ebe04eac size: 2630\n"
     ]
    }
   ],
   "source": [
    "!docker push $full_tag_name"
   ]
  },
  {
   "cell_type": "markdown",
   "id": "ae51cece-3b99-40de-8a15-53ad48df2bd3",
   "metadata": {},
   "source": [
    "# Create App Runner Service"
   ]
  },
  {
   "cell_type": "code",
   "execution_count": 23,
   "id": "914dbca0-0c6a-40a5-b67b-b70e772251b8",
   "metadata": {
    "execution": {
     "iopub.execute_input": "2025-06-12T21:22:33.242621Z",
     "iopub.status.busy": "2025-06-12T21:22:33.242321Z",
     "iopub.status.idle": "2025-06-12T21:22:33.246706Z",
     "shell.execute_reply": "2025-06-12T21:22:33.245837Z",
     "shell.execute_reply.started": "2025-06-12T21:22:33.242600Z"
    }
   },
   "outputs": [],
   "source": [
    "service_name = f\"utec-mlops-{user}-fastapi\"\n",
    "app_runner_role = \"arn:aws:iam::654654589924:role/service-role/AppRunnerECRAccessRole\""
   ]
  },
  {
   "cell_type": "code",
   "execution_count": 19,
   "id": "101c5434-2c49-405d-a302-aa6816c8769a",
   "metadata": {
    "execution": {
     "iopub.execute_input": "2025-06-12T21:14:59.545017Z",
     "iopub.status.busy": "2025-06-12T21:14:59.544663Z",
     "iopub.status.idle": "2025-06-12T21:14:59.548770Z",
     "shell.execute_reply": "2025-06-12T21:14:59.547909Z",
     "shell.execute_reply.started": "2025-06-12T21:14:59.544995Z"
    }
   },
   "outputs": [],
   "source": [
    "conf = {\n",
    "    \"ServiceName\": service_name,\n",
    "    \"SourceConfiguration\": {\n",
    "        \"AuthenticationConfiguration\": {\n",
    "            \"AccessRoleArn\": app_runner_role\n",
    "        },\n",
    "        \"ImageRepository\": {\n",
    "            \"ImageIdentifier\": full_tag_name,\n",
    "            \"ImageConfiguration\": {\n",
    "                \"Port\": \"8000\"\n",
    "            },\n",
    "            \"ImageRepositoryType\": \"ECR\"\n",
    "        }\n",
    "    },\n",
    "    \"InstanceConfiguration\": {\n",
    "        \"Cpu\": \"2 vCPU\",\n",
    "        \"Memory\": \"4 GB\"\n",
    "    }\n",
    "}"
   ]
  },
  {
   "cell_type": "code",
   "execution_count": 20,
   "id": "2abe1d43-675a-45eb-934e-274d6c0083c4",
   "metadata": {
    "execution": {
     "iopub.execute_input": "2025-06-12T21:15:03.126236Z",
     "iopub.status.busy": "2025-06-12T21:15:03.125875Z",
     "iopub.status.idle": "2025-06-12T21:15:03.130477Z",
     "shell.execute_reply": "2025-06-12T21:15:03.129783Z",
     "shell.execute_reply.started": "2025-06-12T21:15:03.126200Z"
    }
   },
   "outputs": [],
   "source": [
    "with open('app_runner_config.json', 'w') as f:\n",
    "    json.dump(conf, f)"
   ]
  },
  {
   "cell_type": "code",
   "execution_count": 21,
   "id": "7c41d8aa-2a43-41d7-9963-fbf10258f18d",
   "metadata": {
    "execution": {
     "iopub.execute_input": "2025-06-12T21:15:18.487761Z",
     "iopub.status.busy": "2025-06-12T21:15:18.487326Z",
     "iopub.status.idle": "2025-06-12T21:15:19.547846Z",
     "shell.execute_reply": "2025-06-12T21:15:19.546917Z",
     "shell.execute_reply.started": "2025-06-12T21:15:18.487735Z"
    }
   },
   "outputs": [
    {
     "name": "stdout",
     "output_type": "stream",
     "text": [
      "\n",
      "An error occurred (AccessDeniedException) when calling the CreateService operation: Account 654654589924 is not authorized pass this role for operation CreateService\n"
     ]
    }
   ],
   "source": [
    "!aws apprunner create-service --cli-input-json file://app_runner_config.json"
   ]
  },
  {
   "cell_type": "markdown",
   "id": "22b466e2-29ff-4ecf-b080-0c64b937720b",
   "metadata": {},
   "source": [
    "# Testing the Model API"
   ]
  },
  {
   "cell_type": "code",
   "execution_count": 72,
   "id": "ecfd10b7-0fb7-46cc-b936-b08faecc72b2",
   "metadata": {
    "execution": {
     "iopub.execute_input": "2025-06-12T07:17:52.353765Z",
     "iopub.status.busy": "2025-06-12T07:17:52.353327Z",
     "iopub.status.idle": "2025-06-12T07:17:52.715449Z",
     "shell.execute_reply": "2025-06-12T07:17:52.714368Z",
     "shell.execute_reply.started": "2025-06-12T07:17:52.353738Z"
    }
   },
   "outputs": [
    {
     "name": "stdout",
     "output_type": "stream",
     "text": [
      "{\"prediction\":0.0018256510375067592}"
     ]
    }
   ],
   "source": [
    "!curl -X POST \"<Default domain>/predict/\" \\\n",
    "  -H \"Content-Type: application/json\" \\\n",
    "  -d '{\"features\": [1,2,3,4,5]}'"
   ]
  },
  {
   "cell_type": "code",
   "execution_count": null,
   "id": "fa60694d-29ff-4719-bfa3-1db3a933c9c0",
   "metadata": {},
   "outputs": [],
   "source": [
    "# 1)\n",
    "# Try it out in https://reqbin.com/ \n",
    "# with the body:\n",
    "# {\"features\": [1,2,3,4,5]}"
   ]
  },
  {
   "cell_type": "code",
   "execution_count": null,
   "id": "944f6cb5-076b-4c86-86e0-0c5fd895c1d9",
   "metadata": {},
   "outputs": [],
   "source": [
    "# 2)\n",
    "# Download the file \"card_fraud_detection_portal.html\"\n",
    "# replace the API domain in the file and open the file in your browser "
   ]
  },
  {
   "cell_type": "markdown",
   "id": "97b62b0a-4710-450d-9fc4-b05bd352bf89",
   "metadata": {},
   "source": [
    "# Delete Image"
   ]
  },
  {
   "cell_type": "code",
   "execution_count": null,
   "id": "9bd6b9ec-c82e-4a50-88ed-c92434ff6a1e",
   "metadata": {},
   "outputs": [],
   "source": [
    "!docker rmi <IMAGE_ID>   \n",
    "!docker rmi <FULL_TAG_NAME>"
   ]
  },
  {
   "cell_type": "code",
   "execution_count": 162,
   "id": "b23f41aa-0d9d-4db7-89e3-8ecb51a7a6d9",
   "metadata": {
    "execution": {
     "iopub.execute_input": "2025-06-12T04:42:43.109960Z",
     "iopub.status.busy": "2025-06-12T04:42:43.109617Z",
     "iopub.status.idle": "2025-06-12T04:42:43.295569Z",
     "shell.execute_reply": "2025-06-12T04:42:43.294605Z",
     "shell.execute_reply.started": "2025-06-12T04:42:43.109933Z"
    }
   },
   "outputs": [
    {
     "name": "stdout",
     "output_type": "stream",
     "text": [
      "REPOSITORY   TAG       IMAGE ID   CREATED   SIZE\n"
     ]
    }
   ],
   "source": [
    "!docker images"
   ]
  }
 ],
 "metadata": {
  "kernelspec": {
   "display_name": "Python 3 (ipykernel)",
   "language": "python",
   "name": "python3"
  },
  "language_info": {
   "codemirror_mode": {
    "name": "ipython",
    "version": 3
   },
   "file_extension": ".py",
   "mimetype": "text/x-python",
   "name": "python",
   "nbconvert_exporter": "python",
   "pygments_lexer": "ipython3",
   "version": "3.12.9"
  }
 },
 "nbformat": 4,
 "nbformat_minor": 5
}
