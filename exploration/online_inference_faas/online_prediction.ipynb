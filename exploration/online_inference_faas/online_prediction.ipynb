{
 "cells": [
  {
   "cell_type": "code",
   "execution_count": 3,
   "id": "e5260361-8a55-4c88-abe6-e7ef2d06c8d2",
   "metadata": {
    "execution": {
     "iopub.execute_input": "2025-06-10T21:19:00.978897Z",
     "iopub.status.busy": "2025-06-10T21:19:00.978619Z",
     "iopub.status.idle": "2025-06-10T21:19:00.983191Z",
     "shell.execute_reply": "2025-06-10T21:19:00.982447Z",
     "shell.execute_reply.started": "2025-06-10T21:19:00.978874Z"
    }
   },
   "outputs": [],
   "source": [
    "import utils"
   ]
  },
  {
   "cell_type": "markdown",
   "id": "17617da4-61e5-4e83-87b9-0bdc1397bb82",
   "metadata": {},
   "source": [
    "# Login to ECR"
   ]
  },
  {
   "cell_type": "code",
   "execution_count": 1,
   "id": "554f2eea-9aa5-4738-8a7e-be77b6cf8f6a",
   "metadata": {
    "execution": {
     "iopub.execute_input": "2025-06-10T21:16:48.369977Z",
     "iopub.status.busy": "2025-06-10T21:16:48.369698Z",
     "iopub.status.idle": "2025-06-10T21:16:49.809487Z",
     "shell.execute_reply": "2025-06-10T21:16:49.808626Z",
     "shell.execute_reply.started": "2025-06-10T21:16:48.369955Z"
    }
   },
   "outputs": [
    {
     "name": "stdout",
     "output_type": "stream",
     "text": [
      "WARNING! Your password will be stored unencrypted in /home/sagemaker-user/.docker/config.json.\n",
      "Configure a credential helper to remove this warning. See\n",
      "https://docs.docker.com/engine/reference/commandline/login/#credential-stores\n",
      "\n",
      "Login Succeeded\n"
     ]
    }
   ],
   "source": [
    "!aws ecr get-login-password --region us-east-1 | docker login --username AWS --password-stdin 654654589924.dkr.ecr.us-east-1.amazonaws.com"
   ]
  },
  {
   "cell_type": "markdown",
   "id": "93cfd575-caa6-4ffa-b33a-0930ae755803",
   "metadata": {},
   "source": [
    "# Checking current images"
   ]
  },
  {
   "cell_type": "code",
   "execution_count": 2,
   "id": "94c3b064-0df7-40de-9952-5fd9bc4b65ff",
   "metadata": {
    "execution": {
     "iopub.execute_input": "2025-06-10T21:17:50.841307Z",
     "iopub.status.busy": "2025-06-10T21:17:50.841010Z",
     "iopub.status.idle": "2025-06-10T21:17:51.014267Z",
     "shell.execute_reply": "2025-06-10T21:17:51.013213Z",
     "shell.execute_reply.started": "2025-06-10T21:17:50.841278Z"
    }
   },
   "outputs": [
    {
     "name": "stdout",
     "output_type": "stream",
     "text": [
      "REPOSITORY   TAG       IMAGE ID   CREATED   SIZE\n"
     ]
    }
   ],
   "source": [
    "!docker images"
   ]
  },
  {
   "cell_type": "markdown",
   "id": "aea19843-4e93-4160-b6bc-58c6eb78abd9",
   "metadata": {},
   "source": [
    "# Creating ECR repository"
   ]
  },
  {
   "cell_type": "code",
   "execution_count": 4,
   "id": "00b45614-6fce-4879-a492-5d48a8978b11",
   "metadata": {
    "execution": {
     "iopub.execute_input": "2025-06-10T21:21:13.969780Z",
     "iopub.status.busy": "2025-06-10T21:21:13.969345Z",
     "iopub.status.idle": "2025-06-10T21:21:13.978288Z",
     "shell.execute_reply": "2025-06-10T21:21:13.977252Z",
     "shell.execute_reply.started": "2025-06-10T21:21:13.969752Z"
    }
   },
   "outputs": [
    {
     "data": {
      "text/plain": [
       "'utec-mlops/ricardo-puma/online-prediction'"
      ]
     },
     "execution_count": 4,
     "metadata": {},
     "output_type": "execute_result"
    }
   ],
   "source": [
    "user = utils.get_username()\n",
    "repository_name = f\"utec-mlops/{user}/online-prediction\"\n",
    "repository_name"
   ]
  },
  {
   "cell_type": "code",
   "execution_count": 5,
   "id": "0d92dcd4-6f36-49b7-94a7-41e638399964",
   "metadata": {
    "execution": {
     "iopub.execute_input": "2025-06-10T21:21:19.246838Z",
     "iopub.status.busy": "2025-06-10T21:21:19.246493Z",
     "iopub.status.idle": "2025-06-10T21:21:20.389814Z",
     "shell.execute_reply": "2025-06-10T21:21:20.388711Z",
     "shell.execute_reply.started": "2025-06-10T21:21:19.246814Z"
    }
   },
   "outputs": [
    {
     "name": "stdout",
     "output_type": "stream",
     "text": [
      "{\n",
      "    \"repository\": {\n",
      "        \"repositoryArn\": \"arn:aws:ecr:us-east-1:654654589924:repository/utec-mlops/ricardo-puma/online-prediction\",\n",
      "        \"registryId\": \"654654589924\",\n",
      "        \"repositoryName\": \"utec-mlops/ricardo-puma/online-prediction\",\n",
      "        \"repositoryUri\": \"654654589924.dkr.ecr.us-east-1.amazonaws.com/utec-mlops/ricardo-puma/online-prediction\",\n",
      "        \"createdAt\": \"2025-06-10T21:21:20.048000+00:00\",\n",
      "        \"imageTagMutability\": \"MUTABLE\",\n",
      "        \"imageScanningConfiguration\": {\n",
      "            \"scanOnPush\": false\n",
      "        },\n",
      "        \"encryptionConfiguration\": {\n",
      "            \"encryptionType\": \"AES256\"\n",
      "        }\n",
      "    }\n",
      "}\n"
     ]
    }
   ],
   "source": [
    "!aws ecr create-repository --repository-name $repository_name"
   ]
  },
  {
   "cell_type": "markdown",
   "id": "1ad2a6b1-cee4-457f-8883-8ebffc31e33c",
   "metadata": {},
   "source": [
    "# Build image"
   ]
  },
  {
   "cell_type": "code",
   "execution_count": 6,
   "id": "7b9277ea-e646-4007-b145-d384aeaa8b9b",
   "metadata": {
    "execution": {
     "iopub.execute_input": "2025-06-10T21:28:12.731098Z",
     "iopub.status.busy": "2025-06-10T21:28:12.730813Z",
     "iopub.status.idle": "2025-06-10T21:29:33.194131Z",
     "shell.execute_reply": "2025-06-10T21:29:33.193135Z",
     "shell.execute_reply.started": "2025-06-10T21:28:12.731071Z"
    }
   },
   "outputs": [
    {
     "name": "stdout",
     "output_type": "stream",
     "text": [
      "DEPRECATED: The legacy builder is deprecated and will be removed in a future release.\n",
      "            BuildKit is currently disabled; enable it by removing the DOCKER_BUILDKIT=0\n",
      "            environment-variable.\n",
      "\n",
      "Sending build context to Docker daemon    148kB\n",
      "Step 1/5 : FROM public.ecr.aws/lambda/python:3.8\n",
      "3.8: Pulling from lambda/python\n",
      "\n",
      "\u001b[1Bbc7afcc5: Pulling fs layer \n",
      "\u001b[1B885bc8e5: Pulling fs layer \n",
      "\u001b[1B3b657f0b: Pulling fs layer \n",
      "\u001b[1Bb66d8510: Pulling fs layer \n",
      "\u001b[1Bb7ce71c1: Pulling fs layer \n",
      "\u001b[1BDigest: sha256:bb3102c119726c2dc5a08ddf773f1e75499555e07f56a831ab2e3a097f6ef46d\n",
      "Status: Downloaded newer image for public.ecr.aws/lambda/python:3.8\n",
      " ---> cfe1181eef94\n",
      "Step 2/5 : RUN pip install --no-cache-dir mlflow==2.13.2 sagemaker-mlflow==0.1.0 xgboost==2.1.4 boto3 numpy pandas\n",
      " ---> Running in 88c6718adc81\n",
      "Collecting mlflow==2.13.2\n",
      "  Downloading mlflow-2.13.2-py3-none-any.whl (25.0 MB)\n",
      "     ━━━━━━━━━━━━━━━━━━━━━━━━━━━━━━━━━━━━━━━ 25.0/25.0 MB 247.3 MB/s eta 0:00:00\n",
      "Collecting sagemaker-mlflow==0.1.0\n",
      "  Downloading sagemaker_mlflow-0.1.0-py3-none-any.whl (24 kB)\n",
      "Collecting xgboost==2.1.4\n",
      "  Downloading xgboost-2.1.4-py3-none-manylinux2014_x86_64.whl (4.5 MB)\n",
      "     ━━━━━━━━━━━━━━━━━━━━━━━━━━━━━━━━━━━━━━━━ 4.5/4.5 MB 198.2 MB/s eta 0:00:00\n",
      "Collecting boto3\n",
      "  Downloading boto3-1.37.38-py3-none-any.whl (139 kB)\n",
      "     ━━━━━━━━━━━━━━━━━━━━━━━━━━━━━━━━━━━━━ 139.9/139.9 kB 263.1 MB/s eta 0:00:00\n",
      "Collecting numpy\n",
      "  Downloading numpy-1.24.4-cp38-cp38-manylinux_2_17_x86_64.manylinux2014_x86_64.whl (17.3 MB)\n",
      "     ━━━━━━━━━━━━━━━━━━━━━━━━━━━━━━━━━━━━━━━ 17.3/17.3 MB 229.1 MB/s eta 0:00:00\n",
      "Collecting pandas\n",
      "  Downloading pandas-2.0.3-cp38-cp38-manylinux_2_17_x86_64.manylinux2014_x86_64.whl (12.4 MB)\n",
      "     ━━━━━━━━━━━━━━━━━━━━━━━━━━━━━━━━━━━━━━━ 12.4/12.4 MB 219.1 MB/s eta 0:00:00\n",
      "Collecting Flask<4\n",
      "  Downloading flask-3.0.3-py3-none-any.whl (101 kB)\n",
      "     ━━━━━━━━━━━━━━━━━━━━━━━━━━━━━━━━━━━━━ 101.7/101.7 kB 226.8 MB/s eta 0:00:00\n",
      "Collecting pytz<2025\n",
      "  Downloading pytz-2024.2-py2.py3-none-any.whl (508 kB)\n",
      "     ━━━━━━━━━━━━━━━━━━━━━━━━━━━━━━━━━━━━━ 508.0/508.0 kB 245.5 MB/s eta 0:00:00\n",
      "Collecting scipy<2\n",
      "  Downloading scipy-1.10.1-cp38-cp38-manylinux_2_17_x86_64.manylinux2014_x86_64.whl (34.5 MB)\n",
      "     ━━━━━━━━━━━━━━━━━━━━━━━━━━━━━━━━━━━━━━━ 34.5/34.5 MB 213.5 MB/s eta 0:00:00\n",
      "Collecting scikit-learn<2\n",
      "  Downloading scikit_learn-1.3.2-cp38-cp38-manylinux_2_17_x86_64.manylinux2014_x86_64.whl (11.1 MB)\n",
      "     ━━━━━━━━━━━━━━━━━━━━━━━━━━━━━━━━━━━━━━━ 11.1/11.1 MB 223.2 MB/s eta 0:00:00\n",
      "Collecting markdown<4,>=3.3\n",
      "  Downloading Markdown-3.7-py3-none-any.whl (106 kB)\n",
      "     ━━━━━━━━━━━━━━━━━━━━━━━━━━━━━━━━━━━━━ 106.3/106.3 kB 244.0 MB/s eta 0:00:00\n",
      "Collecting click<9,>=7.0\n",
      "  Downloading click-8.1.8-py3-none-any.whl (98 kB)\n",
      "     ━━━━━━━━━━━━━━━━━━━━━━━━━━━━━━━━━━━━━━━ 98.2/98.2 kB 109.9 MB/s eta 0:00:00\n",
      "Collecting cloudpickle<4\n",
      "  Downloading cloudpickle-3.1.1-py3-none-any.whl (20 kB)\n",
      "Collecting packaging<25\n",
      "  Downloading packaging-24.2-py3-none-any.whl (65 kB)\n",
      "     ━━━━━━━━━━━━━━━━━━━━━━━━━━━━━━━━━━━━━━━ 65.5/65.5 kB 187.9 MB/s eta 0:00:00\n",
      "Collecting Jinja2<4,>=2.11\n",
      "  Downloading jinja2-3.1.6-py3-none-any.whl (134 kB)\n",
      "     ━━━━━━━━━━━━━━━━━━━━━━━━━━━━━━━━━━━━━ 134.9/134.9 kB 238.3 MB/s eta 0:00:00\n",
      "Collecting cachetools<6,>=5.0.0\n",
      "  Downloading cachetools-5.5.2-py3-none-any.whl (10 kB)\n",
      "Collecting entrypoints<1\n",
      "  Downloading entrypoints-0.4-py3-none-any.whl (5.3 kB)\n",
      "Collecting pyyaml<7,>=5.1\n",
      "  Downloading PyYAML-6.0.2-cp38-cp38-manylinux_2_17_x86_64.manylinux2014_x86_64.whl (746 kB)\n",
      "     ━━━━━━━━━━━━━━━━━━━━━━━━━━━━━━━━━━━━━ 746.5/746.5 kB 293.6 MB/s eta 0:00:00\n",
      "Collecting pyarrow<16,>=4.0.0\n",
      "  Downloading pyarrow-15.0.2-cp38-cp38-manylinux_2_17_x86_64.manylinux2014_x86_64.whl (38.5 MB)\n",
      "     ━━━━━━━━━━━━━━━━━━━━━━━━━━━━━━━━━━━━━━━ 38.5/38.5 MB 172.0 MB/s eta 0:00:00\n",
      "Collecting requests<3,>=2.17.3\n",
      "  Downloading requests-2.32.4-py3-none-any.whl (64 kB)\n",
      "     ━━━━━━━━━━━━━━━━━━━━━━━━━━━━━━━━━━━━━━━ 64.8/64.8 kB 217.6 MB/s eta 0:00:00\n",
      "Collecting querystring-parser<2\n",
      "  Downloading querystring_parser-1.2.4-py2.py3-none-any.whl (7.9 kB)\n",
      "Collecting gunicorn<23\n",
      "  Downloading gunicorn-22.0.0-py3-none-any.whl (84 kB)\n",
      "     ━━━━━━━━━━━━━━━━━━━━━━━━━━━━━━━━━━━━━━━ 84.4/84.4 kB 175.2 MB/s eta 0:00:00\n",
      "Collecting importlib-metadata!=4.7.0,<8,>=3.7.0\n",
      "  Downloading importlib_metadata-7.2.1-py3-none-any.whl (25 kB)\n",
      "Collecting matplotlib<4\n",
      "  Downloading matplotlib-3.7.5-cp38-cp38-manylinux_2_12_x86_64.manylinux2010_x86_64.whl (9.2 MB)\n",
      "     ━━━━━━━━━━━━━━━━━━━━━━━━━━━━━━━━━━━━━━━━ 9.2/9.2 MB 207.1 MB/s eta 0:00:00\n",
      "Collecting sqlparse<1,>=0.4.0\n",
      "  Downloading sqlparse-0.5.3-py3-none-any.whl (44 kB)\n",
      "     ━━━━━━━━━━━━━━━━━━━━━━━━━━━━━━━━━━━━━━━ 44.4/44.4 kB 188.9 MB/s eta 0:00:00\n",
      "Collecting protobuf<5,>=3.12.0\n",
      "  Downloading protobuf-4.25.8-cp37-abi3-manylinux2014_x86_64.whl (294 kB)\n",
      "     ━━━━━━━━━━━━━━━━━━━━━━━━━━━━━━━━━━━━━ 294.9/294.9 kB 282.3 MB/s eta 0:00:00\n",
      "Collecting opentelemetry-api<3,>=1.0.0\n",
      "  Downloading opentelemetry_api-1.33.1-py3-none-any.whl (65 kB)\n",
      "     ━━━━━━━━━━━━━━━━━━━━━━━━━━━━━━━━━━━━━━━━ 65.8/65.8 kB 98.5 MB/s eta 0:00:00\n",
      "Collecting alembic!=1.10.0,<2\n",
      "  Downloading alembic-1.14.1-py3-none-any.whl (233 kB)\n",
      "     ━━━━━━━━━━━━━━━━━━━━━━━━━━━━━━━━━━━━━ 233.6/233.6 kB 194.2 MB/s eta 0:00:00\n",
      "Collecting docker<8,>=4.0.0\n",
      "  Downloading docker-7.1.0-py3-none-any.whl (147 kB)\n",
      "     ━━━━━━━━━━━━━━━━━━━━━━━━━━━━━━━━━━━━━ 147.8/147.8 kB 238.9 MB/s eta 0:00:00\n",
      "Collecting opentelemetry-sdk<3,>=1.0.0\n",
      "  Downloading opentelemetry_sdk-1.33.1-py3-none-any.whl (118 kB)\n",
      "     ━━━━━━━━━━━━━━━━━━━━━━━━━━━━━━━━━━━━━ 119.0/119.0 kB 243.4 MB/s eta 0:00:00\n",
      "Collecting sqlalchemy<3,>=1.4.0\n",
      "  Downloading sqlalchemy-2.0.41-cp38-cp38-manylinux_2_17_x86_64.manylinux2014_x86_64.whl (3.2 MB)\n",
      "     ━━━━━━━━━━━━━━━━━━━━━━━━━━━━━━━━━━━━━━━━ 3.2/3.2 MB 190.2 MB/s eta 0:00:00\n",
      "Collecting gitpython<4,>=3.1.9\n",
      "  Downloading GitPython-3.1.44-py3-none-any.whl (207 kB)\n",
      "     ━━━━━━━━━━━━━━━━━━━━━━━━━━━━━━━━━━━━━ 207.6/207.6 kB 260.7 MB/s eta 0:00:00\n",
      "Collecting graphene<4\n",
      "  Downloading graphene-3.4.3-py2.py3-none-any.whl (114 kB)\n",
      "     ━━━━━━━━━━━━━━━━━━━━━━━━━━━━━━━━━━━━━ 114.9/114.9 kB 224.3 MB/s eta 0:00:00\n",
      "Collecting jmespath<2.0.0,>=0.7.1\n",
      "  Downloading jmespath-1.0.1-py3-none-any.whl (20 kB)\n",
      "Collecting s3transfer<0.12.0,>=0.11.0\n",
      "  Downloading s3transfer-0.11.5-py3-none-any.whl (84 kB)\n",
      "     ━━━━━━━━━━━━━━━━━━━━━━━━━━━━━━━━━━━━━━━ 84.8/84.8 kB 165.3 MB/s eta 0:00:00\n",
      "Collecting botocore<1.38.0,>=1.37.38\n",
      "  Downloading botocore-1.37.38-py3-none-any.whl (13.5 MB)\n",
      "     ━━━━━━━━━━━━━━━━━━━━━━━━━━━━━━━━━━━━━━━ 13.5/13.5 MB 215.9 MB/s eta 0:00:00\n",
      "Collecting tzdata>=2022.1\n",
      "  Downloading tzdata-2025.2-py2.py3-none-any.whl (347 kB)\n",
      "     ━━━━━━━━━━━━━━━━━━━━━━━━━━━━━━━━━━━━━ 347.8/347.8 kB 288.6 MB/s eta 0:00:00\n",
      "Collecting python-dateutil>=2.8.2\n",
      "  Downloading python_dateutil-2.9.0.post0-py2.py3-none-any.whl (229 kB)\n",
      "     ━━━━━━━━━━━━━━━━━━━━━━━━━━━━━━━━━━━━━ 229.9/229.9 kB 202.3 MB/s eta 0:00:00\n",
      "Collecting Mako\n",
      "  Downloading mako-1.3.10-py3-none-any.whl (78 kB)\n",
      "     ━━━━━━━━━━━━━━━━━━━━━━━━━━━━━━━━━━━━━━━ 78.5/78.5 kB 205.2 MB/s eta 0:00:00\n",
      "Collecting typing-extensions>=4\n",
      "  Downloading typing_extensions-4.13.2-py3-none-any.whl (45 kB)\n",
      "     ━━━━━━━━━━━━━━━━━━━━━━━━━━━━━━━━━━━━━━━ 45.8/45.8 kB 188.5 MB/s eta 0:00:00\n",
      "Collecting importlib-resources\n",
      "  Downloading importlib_resources-6.4.5-py3-none-any.whl (36 kB)\n",
      "Collecting urllib3<1.27,>=1.25.4\n",
      "  Downloading urllib3-1.26.20-py2.py3-none-any.whl (144 kB)\n",
      "     ━━━━━━━━━━━━━━━━━━━━━━━━━━━━━━━━━━━━━ 144.2/144.2 kB 202.8 MB/s eta 0:00:00\n",
      "Collecting Werkzeug>=3.0.0\n",
      "  Downloading werkzeug-3.0.6-py3-none-any.whl (227 kB)\n",
      "     ━━━━━━━━━━━━━━━━━━━━━━━━━━━━━━━━━━━━━ 228.0/228.0 kB 255.2 MB/s eta 0:00:00\n",
      "Collecting itsdangerous>=2.1.2\n",
      "  Downloading itsdangerous-2.2.0-py3-none-any.whl (16 kB)\n",
      "Collecting blinker>=1.6.2\n",
      "  Downloading blinker-1.8.2-py3-none-any.whl (9.5 kB)\n",
      "Collecting gitdb<5,>=4.0.1\n",
      "  Downloading gitdb-4.0.12-py3-none-any.whl (62 kB)\n",
      "     ━━━━━━━━━━━━━━━━━━━━━━━━━━━━━━━━━━━━━━━ 62.8/62.8 kB 206.4 MB/s eta 0:00:00\n",
      "Collecting graphql-relay<3.3,>=3.1\n",
      "  Downloading graphql_relay-3.2.0-py3-none-any.whl (16 kB)\n",
      "Collecting graphql-core<3.3,>=3.1\n",
      "  Downloading graphql_core-3.2.6-py3-none-any.whl (203 kB)\n",
      "     ━━━━━━━━━━━━━━━━━━━━━━━━━━━━━━━━━━━━━ 203.4/203.4 kB 272.5 MB/s eta 0:00:00\n",
      "Collecting zipp>=0.5\n",
      "  Downloading zipp-3.20.2-py3-none-any.whl (9.2 kB)\n",
      "Collecting MarkupSafe>=2.0\n",
      "  Downloading MarkupSafe-2.1.5-cp38-cp38-manylinux_2_17_x86_64.manylinux2014_x86_64.whl (26 kB)\n",
      "Collecting pyparsing>=2.3.1\n",
      "  Downloading pyparsing-3.1.4-py3-none-any.whl (104 kB)\n",
      "     ━━━━━━━━━━━━━━━━━━━━━━━━━━━━━━━━━━━━━ 104.1/104.1 kB 233.4 MB/s eta 0:00:00\n",
      "Collecting cycler>=0.10\n",
      "  Downloading cycler-0.12.1-py3-none-any.whl (8.3 kB)\n",
      "Collecting contourpy>=1.0.1\n",
      "  Downloading contourpy-1.1.1-cp38-cp38-manylinux_2_17_x86_64.manylinux2014_x86_64.whl (301 kB)\n",
      "     ━━━━━━━━━━━━━━━━━━━━━━━━━━━━━━━━━━━━━ 301.1/301.1 kB 245.1 MB/s eta 0:00:00\n",
      "Collecting kiwisolver>=1.0.1\n",
      "  Downloading kiwisolver-1.4.7-cp38-cp38-manylinux_2_5_x86_64.manylinux1_x86_64.whl (1.2 MB)\n",
      "     ━━━━━━━━━━━━━━━━━━━━━━━━━━━━━━━━━━━━━━━━ 1.2/1.2 MB 163.0 MB/s eta 0:00:00\n",
      "Collecting pillow>=6.2.0\n",
      "  Downloading pillow-10.4.0-cp38-cp38-manylinux_2_17_x86_64.manylinux2014_x86_64.whl (4.4 MB)\n",
      "     ━━━━━━━━━━━━━━━━━━━━━━━━━━━━━━━━━━━━━━━━ 4.4/4.4 MB 223.7 MB/s eta 0:00:00\n",
      "Collecting fonttools>=4.22.0\n",
      "  Downloading fonttools-4.57.0-cp38-cp38-manylinux_2_17_x86_64.manylinux2014_x86_64.whl (4.7 MB)\n",
      "     ━━━━━━━━━━━━━━━━━━━━━━━━━━━━━━━━━━━━━━━━ 4.7/4.7 MB 145.9 MB/s eta 0:00:00\n",
      "Collecting deprecated>=1.2.6\n",
      "  Downloading Deprecated-1.2.18-py2.py3-none-any.whl (10.0 kB)\n",
      "Collecting opentelemetry-semantic-conventions==0.54b1\n",
      "  Downloading opentelemetry_semantic_conventions-0.54b1-py3-none-any.whl (194 kB)\n",
      "     ━━━━━━━━━━━━━━━━━━━━━━━━━━━━━━━━━━━━━ 194.9/194.9 kB 259.2 MB/s eta 0:00:00\n",
      "Collecting six>=1.5\n",
      "  Downloading six-1.17.0-py2.py3-none-any.whl (11 kB)\n",
      "Collecting certifi>=2017.4.17\n",
      "  Downloading certifi-2025.4.26-py3-none-any.whl (159 kB)\n",
      "     ━━━━━━━━━━━━━━━━━━━━━━━━━━━━━━━━━━━━━ 159.6/159.6 kB 251.1 MB/s eta 0:00:00\n",
      "Collecting charset_normalizer<4,>=2\n",
      "  Downloading charset_normalizer-3.4.2-cp38-cp38-manylinux_2_17_x86_64.manylinux2014_x86_64.whl (147 kB)\n",
      "     ━━━━━━━━━━━━━━━━━━━━━━━━━━━━━━━━━━━━━ 147.4/147.4 kB 225.5 MB/s eta 0:00:00\n",
      "Collecting idna<4,>=2.5\n",
      "  Downloading idna-3.10-py3-none-any.whl (70 kB)\n",
      "     ━━━━━━━━━━━━━━━━━━━━━━━━━━━━━━━━━━━━━━━ 70.4/70.4 kB 174.5 MB/s eta 0:00:00\n",
      "Collecting joblib>=1.1.1\n",
      "  Downloading joblib-1.4.2-py3-none-any.whl (301 kB)\n",
      "     ━━━━━━━━━━━━━━━━━━━━━━━━━━━━━━━━━━━━━ 301.8/301.8 kB 275.8 MB/s eta 0:00:00\n",
      "Collecting threadpoolctl>=2.0.0\n",
      "  Downloading threadpoolctl-3.5.0-py3-none-any.whl (18 kB)\n",
      "Collecting greenlet>=1\n",
      "  Downloading greenlet-3.1.1-cp38-cp38-manylinux_2_24_x86_64.manylinux_2_28_x86_64.whl (605 kB)\n",
      "     ━━━━━━━━━━━━━━━━━━━━━━━━━━━━━━━━━━━━━ 606.0/606.0 kB 288.7 MB/s eta 0:00:00\n",
      "Collecting wrapt<2,>=1.10\n",
      "  Downloading wrapt-1.17.2-cp38-cp38-manylinux_2_5_x86_64.manylinux1_x86_64.manylinux_2_17_x86_64.manylinux2014_x86_64.whl (85 kB)\n",
      "     ━━━━━━━━━━━━━━━━━━━━━━━━━━━━━━━━━━━━━━━ 85.6/85.6 kB 203.2 MB/s eta 0:00:00\n",
      "Collecting smmap<6,>=3.0.1\n",
      "  Downloading smmap-5.0.2-py3-none-any.whl (24 kB)\n",
      "Installing collected packages: pytz, zipp, wrapt, urllib3, tzdata, typing-extensions, threadpoolctl, sqlparse, smmap, six, pyyaml, pyparsing, protobuf, pillow, packaging, numpy, MarkupSafe, kiwisolver, joblib, jmespath, itsdangerous, idna, greenlet, fonttools, entrypoints, cycler, cloudpickle, click, charset_normalizer, certifi, cachetools, blinker, Werkzeug, sqlalchemy, scipy, requests, querystring-parser, python-dateutil, pyarrow, Mako, Jinja2, importlib-resources, importlib-metadata, gunicorn, graphql-core, gitdb, deprecated, contourpy, xgboost, scikit-learn, pandas, opentelemetry-api, matplotlib, markdown, graphql-relay, gitpython, Flask, docker, botocore, alembic, s3transfer, opentelemetry-semantic-conventions, graphene, opentelemetry-sdk, boto3, mlflow, sagemaker-mlflow\n",
      "Successfully installed Flask-3.0.3 Jinja2-3.1.6 Mako-1.3.10 MarkupSafe-2.1.5 Werkzeug-3.0.6 alembic-1.14.1 blinker-1.8.2 boto3-1.37.38 botocore-1.37.38 cachetools-5.5.2 certifi-2025.4.26 charset_normalizer-3.4.2 click-8.1.8 cloudpickle-3.1.1 contourpy-1.1.1 cycler-0.12.1 deprecated-1.2.18 docker-7.1.0 entrypoints-0.4 fonttools-4.57.0 gitdb-4.0.12 gitpython-3.1.44 graphene-3.4.3 graphql-core-3.2.6 graphql-relay-3.2.0 greenlet-3.1.1 gunicorn-22.0.0 idna-3.10 importlib-metadata-7.2.1 importlib-resources-6.4.5 itsdangerous-2.2.0 jmespath-1.0.1 joblib-1.4.2 kiwisolver-1.4.7 markdown-3.7 matplotlib-3.7.5 mlflow-2.13.2 numpy-1.24.4 opentelemetry-api-1.33.1 opentelemetry-sdk-1.33.1 opentelemetry-semantic-conventions-0.54b1 packaging-24.2 pandas-2.0.3 pillow-10.4.0 protobuf-4.25.8 pyarrow-15.0.2 pyparsing-3.1.4 python-dateutil-2.9.0.post0 pytz-2024.2 pyyaml-6.0.2 querystring-parser-1.2.4 requests-2.32.4 s3transfer-0.11.5 sagemaker-mlflow-0.1.0 scikit-learn-1.3.2 scipy-1.10.1 six-1.17.0 smmap-5.0.2 sqlalchemy-2.0.41 sqlparse-0.5.3 threadpoolctl-3.5.0 typing-extensions-4.13.2 tzdata-2025.2 urllib3-1.26.20 wrapt-1.17.2 xgboost-2.1.4 zipp-3.20.2\n",
      "\u001b[91mWARNING: Running pip as the 'root' user can result in broken permissions and conflicting behaviour with the system package manager. It is recommended to use a virtual environment instead: https://pip.pypa.io/warnings/venv\n",
      "\u001b[0m\u001b[91m\n",
      "[notice] A new release of pip is available: 23.0.1 -> 25.0.1\n",
      "[notice] To update, run: pip install --upgrade pip\n",
      "\u001b[0m ---> Removed intermediate container 88c6718adc81\n",
      " ---> 1da1c905b4fc\n",
      "Step 3/5 : COPY entrypoint.py /var/task/entrypoint.py\n",
      " ---> 55acbf4aa833\n",
      "Step 4/5 : CMD [\"entrypoint.lambda_handler\"]\n",
      " ---> Running in ddcde69751a3\n",
      " ---> Removed intermediate container ddcde69751a3\n",
      " ---> 0c4cbc143576\n",
      "Step 5/5 : LABEL com.amazon.studio.user.resources=true\n",
      " ---> Running in ea7703db22bf\n",
      " ---> Removed intermediate container ea7703db22bf\n",
      " ---> c93a2a48f35a\n",
      "Successfully built c93a2a48f35a\n",
      "Successfully tagged utec-mlops/ricardo-puma/online-prediction:latest\n"
     ]
    }
   ],
   "source": [
    "!docker build --network sagemaker -t $repository_name ."
   ]
  },
  {
   "cell_type": "markdown",
   "id": "2c222cc0-bfce-4ea3-adbb-6a5839232f76",
   "metadata": {},
   "source": [
    "# Checking current images"
   ]
  },
  {
   "cell_type": "code",
   "execution_count": 7,
   "id": "0a0c2aa5-cf65-49be-baa3-483a832b7e6c",
   "metadata": {
    "execution": {
     "iopub.execute_input": "2025-06-10T21:32:57.123543Z",
     "iopub.status.busy": "2025-06-10T21:32:57.123203Z",
     "iopub.status.idle": "2025-06-10T21:32:57.305112Z",
     "shell.execute_reply": "2025-06-10T21:32:57.304273Z",
     "shell.execute_reply.started": "2025-06-10T21:32:57.123516Z"
    }
   },
   "outputs": [
    {
     "name": "stdout",
     "output_type": "stream",
     "text": [
      "REPOSITORY                                  TAG       IMAGE ID       CREATED         SIZE\n",
      "utec-mlops/ricardo-puma/online-prediction   latest    c93a2a48f35a   3 minutes ago   1.25GB\n"
     ]
    }
   ],
   "source": [
    "!docker images"
   ]
  },
  {
   "cell_type": "markdown",
   "id": "6dbbfacc-ac47-404d-b41e-74627361e88e",
   "metadata": {},
   "source": [
    "# Tag image"
   ]
  },
  {
   "cell_type": "code",
   "execution_count": 12,
   "id": "408b3111-0b8c-400a-847d-bf059e08e180",
   "metadata": {
    "execution": {
     "iopub.execute_input": "2025-06-10T21:38:29.980379Z",
     "iopub.status.busy": "2025-06-10T21:38:29.979977Z",
     "iopub.status.idle": "2025-06-10T21:38:29.985221Z",
     "shell.execute_reply": "2025-06-10T21:38:29.984475Z",
     "shell.execute_reply.started": "2025-06-10T21:38:29.980340Z"
    }
   },
   "outputs": [
    {
     "name": "stdout",
     "output_type": "stream",
     "text": [
      "utec-mlops/ricardo-puma/online-prediction:latest\n",
      "654654589924.dkr.ecr.us-east-1.amazonaws.com/utec-mlops/ricardo-puma/online-prediction:latest\n"
     ]
    }
   ],
   "source": [
    "ecr_url = \"654654589924.dkr.ecr.us-east-1.amazonaws.com\"\n",
    "tag_name = f\"{repository_name}:latest\"\n",
    "full_tag_name = f\"{ecr_url}/{tag_name}\"\n",
    "print(tag_name)\n",
    "print(full_tag_name)"
   ]
  },
  {
   "cell_type": "code",
   "execution_count": 13,
   "id": "8fef7a3f-c398-4cd9-bfd6-5b46d5ea42dd",
   "metadata": {
    "execution": {
     "iopub.execute_input": "2025-06-10T21:38:45.648713Z",
     "iopub.status.busy": "2025-06-10T21:38:45.648083Z",
     "iopub.status.idle": "2025-06-10T21:38:45.823541Z",
     "shell.execute_reply": "2025-06-10T21:38:45.822442Z",
     "shell.execute_reply.started": "2025-06-10T21:38:45.648685Z"
    }
   },
   "outputs": [],
   "source": [
    "!docker tag $tag_name $full_tag_name"
   ]
  },
  {
   "cell_type": "markdown",
   "id": "ede93500-0e61-4bf0-bf69-c0219224d26f",
   "metadata": {},
   "source": [
    "# Checking current images"
   ]
  },
  {
   "cell_type": "code",
   "execution_count": 17,
   "id": "10fd6fb2-44ad-42f0-9a0b-920a89959009",
   "metadata": {
    "execution": {
     "iopub.execute_input": "2025-06-10T21:42:28.358765Z",
     "iopub.status.busy": "2025-06-10T21:42:28.358029Z",
     "iopub.status.idle": "2025-06-10T21:42:28.539506Z",
     "shell.execute_reply": "2025-06-10T21:42:28.538551Z",
     "shell.execute_reply.started": "2025-06-10T21:42:28.358729Z"
    }
   },
   "outputs": [
    {
     "name": "stdout",
     "output_type": "stream",
     "text": [
      "REPOSITORY                                                                               TAG       IMAGE ID       CREATED          SIZE\n",
      "654654589924.dkr.ecr.us-east-1.amazonaws.com/utec-mlops/ricardo-puma/online-prediction   latest    c93a2a48f35a   12 minutes ago   1.25GB\n",
      "utec-mlops/ricardo-puma/online-prediction                                                latest    c93a2a48f35a   12 minutes ago   1.25GB\n"
     ]
    }
   ],
   "source": [
    "!docker images"
   ]
  },
  {
   "cell_type": "markdown",
   "id": "946dd369-bcdf-4dae-a0df-89333fb68e3e",
   "metadata": {},
   "source": [
    "# Push image to ECR"
   ]
  },
  {
   "cell_type": "code",
   "execution_count": 19,
   "id": "98c6e395-c151-4c9c-ada9-84e985413301",
   "metadata": {
    "execution": {
     "iopub.execute_input": "2025-06-10T21:50:55.564147Z",
     "iopub.status.busy": "2025-06-10T21:50:55.563887Z",
     "iopub.status.idle": "2025-06-10T21:51:53.140691Z",
     "shell.execute_reply": "2025-06-10T21:51:53.139913Z",
     "shell.execute_reply.started": "2025-06-10T21:50:55.564124Z"
    }
   },
   "outputs": [
    {
     "name": "stdout",
     "output_type": "stream",
     "text": [
      "The push refers to repository [654654589924.dkr.ecr.us-east-1.amazonaws.com/utec-mlops/ricardo-puma/online-prediction]\n",
      "\n",
      "\u001b[1Bb07f24a9: Preparing \n",
      "\u001b[1B047a4bd9: Preparing \n",
      "\u001b[1B76196de3: Preparing \n",
      "\u001b[1B541d45e3: Preparing \n",
      "\u001b[1Bef616f15: Preparing \n",
      "\u001b[1Bfc379876: Preparing \n",
      "\u001b[1B03d018ef: Preparing \n",
      "\u001b[7Blatest: digest: sha256:6b6ffd0e390a4e60eb294fbf046f12c74b22ee16abeff02f3365cced044f41df size: 2001\n"
     ]
    }
   ],
   "source": [
    "!docker push $full_tag_name"
   ]
  },
  {
   "cell_type": "markdown",
   "id": "9eec02e2-22aa-487d-9b23-b9668bf1b03c",
   "metadata": {},
   "source": [
    "# Create Lambda Function"
   ]
  },
  {
   "cell_type": "code",
   "execution_count": 41,
   "id": "2b9b3ab8-efb8-4700-8b93-c04eadeb62bb",
   "metadata": {
    "execution": {
     "iopub.execute_input": "2025-06-10T22:39:59.686967Z",
     "iopub.status.busy": "2025-06-10T22:39:59.686385Z",
     "iopub.status.idle": "2025-06-10T22:39:59.690872Z",
     "shell.execute_reply": "2025-06-10T22:39:59.690287Z",
     "shell.execute_reply.started": "2025-06-10T22:39:59.686932Z"
    }
   },
   "outputs": [
    {
     "name": "stdout",
     "output_type": "stream",
     "text": [
      "mlops-utec-ricardo-puma-online-prediction\n"
     ]
    }
   ],
   "source": [
    "function_name = f\"mlops-utec-{user}-online-prediction\"\n",
    "print(function_name)\n",
    "lambda_role = \"arn:aws:iam::654654589924:role/utec-lambda-mlops-role\""
   ]
  },
  {
   "cell_type": "code",
   "execution_count": 42,
   "id": "8d7c4b5c-9a2f-40fb-ba27-3a96e953ff48",
   "metadata": {
    "execution": {
     "iopub.execute_input": "2025-06-10T22:40:06.721235Z",
     "iopub.status.busy": "2025-06-10T22:40:06.720874Z",
     "iopub.status.idle": "2025-06-10T22:40:08.501720Z",
     "shell.execute_reply": "2025-06-10T22:40:08.500521Z",
     "shell.execute_reply.started": "2025-06-10T22:40:06.721212Z"
    }
   },
   "outputs": [
    {
     "name": "stdout",
     "output_type": "stream",
     "text": [
      "{\n",
      "    \"FunctionName\": \"mlops-utec-ricardo-puma-online-prediction\",\n",
      "    \"FunctionArn\": \"arn:aws:lambda:us-east-1:654654589924:function:mlops-utec-ricardo-puma-online-prediction\",\n",
      "    \"Role\": \"arn:aws:iam::654654589924:role/utec-lambda-mlops-role\",\n",
      "    \"CodeSize\": 0,\n",
      "    \"Description\": \"\",\n",
      "    \"Timeout\": 120,\n",
      "    \"MemorySize\": 128,\n",
      "    \"LastModified\": \"2025-06-10T22:40:07.591+0000\",\n",
      "    \"CodeSha256\": \"6b6ffd0e390a4e60eb294fbf046f12c74b22ee16abeff02f3365cced044f41df\",\n",
      "    \"Version\": \"$LATEST\",\n",
      "    \"TracingConfig\": {\n",
      "        \"Mode\": \"PassThrough\"\n",
      "    },\n",
      "    \"RevisionId\": \"2cd86dad-f90a-4985-9b47-1ea71c0460ec\",\n",
      "    \"State\": \"Pending\",\n",
      "    \"StateReason\": \"The function is being created.\",\n",
      "    \"StateReasonCode\": \"Creating\",\n",
      "    \"PackageType\": \"Image\",\n",
      "    \"Architectures\": [\n",
      "        \"x86_64\"\n",
      "    ],\n",
      "    \"EphemeralStorage\": {\n",
      "        \"Size\": 512\n",
      "    },\n",
      "    \"SnapStart\": {\n",
      "        \"ApplyOn\": \"None\",\n",
      "        \"OptimizationStatus\": \"Off\"\n",
      "    },\n",
      "    \"LoggingConfig\": {\n",
      "        \"LogFormat\": \"Text\",\n",
      "        \"LogGroup\": \"/aws/lambda/mlops-utec-ricardo-puma-online-prediction\"\n",
      "    }\n",
      "}\n"
     ]
    }
   ],
   "source": [
    "!aws lambda create-function \\\n",
    "        --function-name $function_name \\\n",
    "        --package-type Image \\\n",
    "        --code ImageUri=$full_tag_name \\\n",
    "        --role $lambda_role \\\n",
    "        --architectures x86_64 \\\n",
    "        --region us-east-1 \\\n",
    "        --timeout 120"
   ]
  },
  {
   "cell_type": "code",
   "execution_count": null,
   "id": "406ee9f2-a5d5-4551-89c9-327612d4c412",
   "metadata": {},
   "outputs": [],
   "source": [
    "# Create a test \"prediction-test\" and add this input\n",
    "{\n",
    "  \"body\": {\n",
    "    \"data\": [0,237.10,487.97,504.7,7878.1]\n",
    "  }\n",
    "}"
   ]
  },
  {
   "cell_type": "markdown",
   "id": "97b62b0a-4710-450d-9fc4-b05bd352bf89",
   "metadata": {},
   "source": [
    "# Delete Image"
   ]
  },
  {
   "cell_type": "code",
   "execution_count": null,
   "id": "9bd6b9ec-c82e-4a50-88ed-c92434ff6a1e",
   "metadata": {},
   "outputs": [],
   "source": [
    "!docker rmi <IMAGE_ID>   \n",
    "!docker rmi <FULL_TAG_NAME>"
   ]
  },
  {
   "cell_type": "code",
   "execution_count": null,
   "id": "b23f41aa-0d9d-4db7-89e3-8ecb51a7a6d9",
   "metadata": {},
   "outputs": [],
   "source": []
  }
 ],
 "metadata": {
  "kernelspec": {
   "display_name": "Python 3 (ipykernel)",
   "language": "python",
   "name": "python3"
  },
  "language_info": {
   "codemirror_mode": {
    "name": "ipython",
    "version": 3
   },
   "file_extension": ".py",
   "mimetype": "text/x-python",
   "name": "python",
   "nbconvert_exporter": "python",
   "pygments_lexer": "ipython3",
   "version": "3.12.9"
  }
 },
 "nbformat": 4,
 "nbformat_minor": 5
}
