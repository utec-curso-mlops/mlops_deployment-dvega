{
 "cells": [
  {
   "cell_type": "code",
   "execution_count": 17,
   "id": "3e64f74b-ae16-4a86-b06a-00b974c068d1",
   "metadata": {
    "execution": {
     "iopub.execute_input": "2025-06-05T05:10:58.243473Z",
     "iopub.status.busy": "2025-06-05T05:10:58.242879Z",
     "iopub.status.idle": "2025-06-05T05:10:58.247350Z",
     "shell.execute_reply": "2025-06-05T05:10:58.246628Z",
     "shell.execute_reply.started": "2025-06-05T05:10:58.243445Z"
    }
   },
   "outputs": [],
   "source": [
    "from sagemaker.workflow.function_step import step\n",
    "from sagemaker.workflow.pipeline import Pipeline\n",
    "import sagemaker\n",
    "from sagemaker.workflow.parameters import ParameterInteger\n",
    "from sagemaker.workflow.execution_variables import ExecutionVariables\n",
    "from sagemaker.workflow.condition_step import ConditionStep\n",
    "from sagemaker.workflow.conditions import ConditionGreaterThanOrEqualTo\n",
    "from sagemaker.workflow.fail_step import FailStep\n",
    "import utils"
   ]
  },
  {
   "cell_type": "markdown",
   "id": "6f9c4deb-e967-49b7-891a-2cda3fd68a21",
   "metadata": {},
   "source": [
    "# GLOBAL VARIABLES"
   ]
  },
  {
   "cell_type": "code",
   "execution_count": 18,
   "id": "710ee9eb-0778-4b21-b5d4-42bf81b4d2f0",
   "metadata": {
    "execution": {
     "iopub.execute_input": "2025-06-05T05:11:00.180325Z",
     "iopub.status.busy": "2025-06-05T05:11:00.179491Z",
     "iopub.status.idle": "2025-06-05T05:11:00.484861Z",
     "shell.execute_reply": "2025-06-05T05:11:00.484137Z",
     "shell.execute_reply.started": "2025-06-05T05:11:00.180297Z"
    }
   },
   "outputs": [],
   "source": [
    "# data_pull, model_training, model_evaluation, model_registration\n",
    "\n",
    "#User\n",
    "user = utils.get_username()\n",
    "\n",
    "# Sagemaker configuration\n",
    "role = sagemaker.get_execution_role()\n",
    "default_bucket = \"mlops-utec\"\n",
    "default_prefix = f\"sagemaker/credit-card-fraud-detection/{user}\"\n",
    "default_path = default_bucket + \"/\" + default_prefix\n",
    "sagemaker_session = sagemaker.Session(default_bucket=default_bucket,\n",
    "                                      default_bucket_prefix=default_prefix)\n",
    "#Pipeline configuration\n",
    "instance_type = \"ml.m5.large\"\n",
    "pipeline_name = f\"pipeline-train-{user}\"\n",
    "model_name = f\"credit-card-fraud-detection-{user}\"\n",
    "cod_month_start = ParameterInteger(name=\"PeriodoCargaInicio\")\n",
    "cod_month_end = ParameterInteger(name=\"PeriodoCargaFin\")\n",
    "\n",
    "#MLFlow configuration\n",
    "tracking_server_arn = 'arn:aws:sagemaker:us-east-1:654654589924:mlflow-tracking-server/mlops-utec-mlflow-server'\n",
    "experiment_name = f\"pipeline-train-exp-{user}\""
   ]
  },
  {
   "cell_type": "markdown",
   "id": "7bdd1eb6-4f06-4b7f-bc99-384b6fc4f9c7",
   "metadata": {},
   "source": [
    "# DATA PULL"
   ]
  },
  {
   "cell_type": "code",
   "execution_count": 19,
   "id": "dd6b0ad0-1479-428f-a620-c4ac24c54510",
   "metadata": {
    "execution": {
     "iopub.execute_input": "2025-06-05T05:11:03.021199Z",
     "iopub.status.busy": "2025-06-05T05:11:03.020885Z",
     "iopub.status.idle": "2025-06-05T05:11:03.026819Z",
     "shell.execute_reply": "2025-06-05T05:11:03.026089Z",
     "shell.execute_reply.started": "2025-06-05T05:11:03.021177Z"
    }
   },
   "outputs": [],
   "source": [
    "@step(\n",
    "    name=\"DataPull\",\n",
    "    instance_type=instance_type,\n",
    "    dependencies=\"./data_pull_requirements.txt\"\n",
    ")\n",
    "def data_pull(experiment_name: str, run_name: str,\n",
    "              cod_month_start: int, cod_month_end: int) -> tuple[str, str, str]:\n",
    "    import awswrangler as wr\n",
    "    import mlflow\n",
    "\n",
    "    mlflow.set_tracking_uri(tracking_server_arn)\n",
    "    mlflow.set_experiment(experiment_name)\n",
    "    TARGET_COL = \"is_fraud\"\n",
    "    query = \"\"\"\n",
    "        SELECT  transaction_id\n",
    "                ,amount\n",
    "                ,merchant_category\n",
    "                ,merchant_country\n",
    "                ,card_present\n",
    "                ,is_fraud\n",
    "                ,cod_month\n",
    "                ,trx_vel_last_1mths\n",
    "                ,trx_vel_last_2mths\n",
    "                ,amt_vel_last_1mths\n",
    "                ,amt_vel_last_2mths\n",
    "        FROM    RISK_MANAGEMENT.CREDIT_CARD_TRANSACTIONS\n",
    "        WHERE   cod_month between {} and {}\n",
    "    \"\"\".format(cod_month_start, cod_month_end)\n",
    "    train_s3_path = f\"s3://{default_path}/train_data/train.csv\"\n",
    "    with mlflow.start_run(run_name=run_name) as run:\n",
    "        run_id = run.info.run_id\n",
    "        with mlflow.start_run(run_name=\"DataPull\", nested=True):\n",
    "            df = wr.athena.read_sql_query(sql=query, database=\"risk_management\")\n",
    "            df.to_csv(train_s3_path, index=False)\n",
    "            mlflow.log_input(\n",
    "                mlflow.data.from_pandas(df, train_s3_path,\n",
    "                                        targets=TARGET_COL),\n",
    "                context=\"DataPull\"\n",
    "            )\n",
    "    return train_s3_path, experiment_name, run_id"
   ]
  },
  {
   "cell_type": "markdown",
   "id": "80eae67c-ec22-4618-bf18-1a63b84be990",
   "metadata": {},
   "source": [
    "# MODEL TRAINING"
   ]
  },
  {
   "cell_type": "code",
   "execution_count": 20,
   "id": "25a09b95-69a5-4cf8-8634-7026d3f392ce",
   "metadata": {
    "execution": {
     "iopub.execute_input": "2025-06-05T05:11:05.401225Z",
     "iopub.status.busy": "2025-06-05T05:11:05.400617Z",
     "iopub.status.idle": "2025-06-05T05:11:05.411235Z",
     "shell.execute_reply": "2025-06-05T05:11:05.410586Z",
     "shell.execute_reply.started": "2025-06-05T05:11:05.401195Z"
    }
   },
   "outputs": [],
   "source": [
    "@step(\n",
    "    name=\"ModelTraining\",\n",
    "    instance_type=instance_type,\n",
    "    dependencies=\"./model_training_requirements.txt\"\n",
    ")\n",
    "def model_training(train_s3_path: str, experiment_name: str,\n",
    "                   run_id: str) -> tuple[str, str, str, str]:\n",
    "    import pandas as pd\n",
    "    import mlflow\n",
    "    from sklearn.model_selection import train_test_split\n",
    "    from xgboost import XGBClassifier\n",
    "    TARGET_COL = \"is_fraud\"\n",
    "    SEED = 42\n",
    "    TRAIN_SPLIT = 0.7\n",
    "    FEATURES = ['card_present', 'trx_vel_last_1mths', 'trx_vel_last_2mths',\n",
    "                'amt_vel_last_1mths', 'amt_vel_last_2mths']\n",
    "    mlflow.set_tracking_uri(tracking_server_arn)\n",
    "    mlflow.set_experiment(experiment_name)\n",
    "    df = pd.read_csv(train_s3_path)\n",
    "    X = df[FEATURES]\n",
    "    y = df[TARGET_COL]\n",
    "    X_train, X_test, y_train, y_test = train_test_split(X, y,\n",
    "                                                        train_size=TRAIN_SPLIT,\n",
    "                                                        random_state=SEED)\n",
    "    use_gpu = False\n",
    "    param = dict(\n",
    "        objective=\"binary:logistic\",\n",
    "        max_depth=5,\n",
    "        eta=0.2,\n",
    "        gamma=4,\n",
    "        min_child_weight=6,\n",
    "        subsample=0.7,\n",
    "        tree_method=\"gpu_hist\" if use_gpu else \"hist\",\n",
    "        n_estimators=50\n",
    "    )\n",
    "    with mlflow.start_run(run_id=run_id):\n",
    "        with mlflow.start_run(run_name=\"ModelTraining\",\n",
    "                              nested=True) as training_run:\n",
    "            training_run_id = training_run.info.run_id\n",
    "            test_s3_path = f\"s3://{default_path}/test_data/test.csv\"\n",
    "            df_test = pd.concat([X_test, y_test], axis=1)\n",
    "            df_test.to_csv(test_s3_path, index=False)\n",
    "            mlflow.log_input(\n",
    "                mlflow.data.from_pandas(df_test, test_s3_path,\n",
    "                                        targets=TARGET_COL),\n",
    "                context=\"ModelTraining\"\n",
    "            )\n",
    "            mlflow.xgboost.autolog(\n",
    "                log_input_examples=True,\n",
    "                log_model_signatures=True,\n",
    "                log_models=True,\n",
    "                log_datasets=True,\n",
    "                model_format=\"xgb\",\n",
    "            )\n",
    "            xgb = XGBClassifier(**param)\n",
    "            xgb.fit(X_train, y_train)\n",
    "    return test_s3_path, experiment_name, run_id, training_run_id"
   ]
  },
  {
   "cell_type": "markdown",
   "id": "6c792f23-b6a4-4b76-b07f-7e9623847add",
   "metadata": {},
   "source": [
    "# MODEL EVALUATION"
   ]
  },
  {
   "cell_type": "code",
   "execution_count": 21,
   "id": "48f05087-e9f4-4939-b494-8dfd1b7c79c0",
   "metadata": {
    "execution": {
     "iopub.execute_input": "2025-06-05T05:11:13.293881Z",
     "iopub.status.busy": "2025-06-05T05:11:13.293320Z",
     "iopub.status.idle": "2025-06-05T05:11:13.301189Z",
     "shell.execute_reply": "2025-06-05T05:11:13.299336Z",
     "shell.execute_reply.started": "2025-06-05T05:11:13.293851Z"
    }
   },
   "outputs": [],
   "source": [
    "@step(\n",
    "    name=\"ModelEvaluation\",\n",
    "    instance_type=instance_type,\n",
    "    dependencies=\"./model_training_requirements.txt\"\n",
    ")\n",
    "def evaluate(\n",
    "    test_s3_path: str,\n",
    "    experiment_name: str,\n",
    "    run_id: str,\n",
    "    training_run_id: str,\n",
    ") -> dict:\n",
    "    import mlflow\n",
    "    import pandas as pd\n",
    "    TARGET_COL = \"is_fraud\"\n",
    "    mlflow.set_tracking_uri(tracking_server_arn)\n",
    "    mlflow.set_experiment(experiment_name)\n",
    "    with mlflow.start_run(run_id=run_id):\n",
    "        with mlflow.start_run(run_name=\"ModelEvaluation\", nested=True):\n",
    "            test_df = pd.read_csv(test_s3_path)\n",
    "            model = mlflow.pyfunc.load_model(f\"runs:/{training_run_id}/model\")\n",
    "            results = mlflow.evaluate(\n",
    "                model=model,\n",
    "                data=test_df,\n",
    "                targets=TARGET_COL,\n",
    "                model_type=\"classifier\",\n",
    "                evaluators=[\"default\"],\n",
    "            )\n",
    "            return {\"f1_score\": results.metrics[\"f1_score\"]}"
   ]
  },
  {
   "cell_type": "markdown",
   "id": "8fcfe09d-12ed-4287-8095-7237f5fcf9f9",
   "metadata": {},
   "source": [
    "# MODEL REGISTRATION"
   ]
  },
  {
   "cell_type": "code",
   "execution_count": 22,
   "id": "fef744cd-9e42-44ae-82df-06c5b173d2ab",
   "metadata": {
    "execution": {
     "iopub.execute_input": "2025-06-05T05:11:21.653091Z",
     "iopub.status.busy": "2025-06-05T05:11:21.652824Z",
     "iopub.status.idle": "2025-06-05T05:11:21.657202Z",
     "shell.execute_reply": "2025-06-05T05:11:21.656535Z",
     "shell.execute_reply.started": "2025-06-05T05:11:21.653072Z"
    }
   },
   "outputs": [],
   "source": [
    "@step(\n",
    "    name=\"ModelRegistration\",\n",
    "    instance_type=instance_type,\n",
    "    dependencies=\"./model_training_requirements.txt\"\n",
    ")\n",
    "def register(\n",
    "    model_name: str,\n",
    "    experiment_name: str,\n",
    "    run_id: str,\n",
    "    training_run_id: str,\n",
    "):\n",
    "    import mlflow\n",
    "\n",
    "    mlflow.set_tracking_uri(tracking_server_arn)\n",
    "    mlflow.set_experiment(experiment_name)\n",
    "\n",
    "    with mlflow.start_run(run_id=run_id):\n",
    "        with mlflow.start_run(run_name=\"ModelRegistration\", nested=True):\n",
    "            mlflow.register_model(f\"runs:/{training_run_id}/model\", model_name)"
   ]
  },
  {
   "cell_type": "markdown",
   "id": "9526f6b4-8eb5-4464-82a1-19e54aefa8f9",
   "metadata": {},
   "source": [
    "# PIPELINE"
   ]
  },
  {
   "cell_type": "code",
   "execution_count": 23,
   "id": "1814aafa-4511-46bd-b2b1-3672bfee2d36",
   "metadata": {
    "execution": {
     "iopub.execute_input": "2025-06-05T05:11:24.565357Z",
     "iopub.status.busy": "2025-06-05T05:11:24.564664Z",
     "iopub.status.idle": "2025-06-05T05:11:24.573044Z",
     "shell.execute_reply": "2025-06-05T05:11:24.571902Z",
     "shell.execute_reply.started": "2025-06-05T05:11:24.565329Z"
    }
   },
   "outputs": [],
   "source": [
    "data_pull_step = data_pull(experiment_name=experiment_name,\n",
    "                           run_name=ExecutionVariables.PIPELINE_EXECUTION_ID,\n",
    "                           cod_month_start=cod_month_start,\n",
    "                           cod_month_end=cod_month_end)\n",
    "\n",
    "model_training_step = model_training(train_s3_path=data_pull_step[0],\n",
    "                                     experiment_name=data_pull_step[1],\n",
    "                                     run_id=data_pull_step[2])\n",
    "\n",
    "conditional_register_step = ConditionStep(\n",
    "    name=\"ConditionalRegister\",\n",
    "    conditions=[\n",
    "        ConditionGreaterThanOrEqualTo(\n",
    "            left=evaluate(\n",
    "                test_s3_path=model_training_step[0],\n",
    "                experiment_name=model_training_step[1],\n",
    "                run_id=model_training_step[2],\n",
    "                training_run_id=model_training_step[3],\n",
    "            )[\"f1_score\"],\n",
    "            right=0.6,\n",
    "        )\n",
    "    ],\n",
    "    if_steps=[\n",
    "        register(\n",
    "            model_name=model_name,\n",
    "            experiment_name=model_training_step[1],\n",
    "            run_id=model_training_step[2],\n",
    "            training_run_id=model_training_step[3],\n",
    "        )\n",
    "    ],\n",
    "    else_steps=[FailStep(name=\"Fail\",\n",
    "                         error_message=\"Model performance is not good enough\")]\n",
    ")"
   ]
  },
  {
   "cell_type": "code",
   "execution_count": 24,
   "id": "f26a5824-adb6-41bd-9c69-69b639c4c9fa",
   "metadata": {
    "execution": {
     "iopub.execute_input": "2025-06-05T05:11:46.853018Z",
     "iopub.status.busy": "2025-06-05T05:11:46.852733Z",
     "iopub.status.idle": "2025-06-05T05:11:50.211244Z",
     "shell.execute_reply": "2025-06-05T05:11:50.208420Z",
     "shell.execute_reply.started": "2025-06-05T05:11:46.852998Z"
    }
   },
   "outputs": [
    {
     "name": "stderr",
     "output_type": "stream",
     "text": [
      "2025-06-05 05:11:47,255 sagemaker.remote_function INFO     Uploading serialized function code to s3://sagemaker-us-east-1-654654589924/pipeline-train-ricardo-puma/DataPull/2025-06-05-05-11-47-028/function\n",
      "2025-06-05 05:11:47,311 sagemaker.remote_function INFO     Uploading serialized function arguments to s3://sagemaker-us-east-1-654654589924/pipeline-train-ricardo-puma/DataPull/2025-06-05-05-11-47-028/arguments\n",
      "2025-06-05 05:11:48,039 sagemaker.remote_function INFO     Copied dependencies file at './data_pull_requirements.txt' to '/tmp/tmpcxpswhjw/data_pull_requirements.txt'\n",
      "2025-06-05 05:11:48,063 sagemaker.remote_function INFO     Successfully uploaded dependencies and pre execution scripts to 's3://sagemaker-us-east-1-654654589924/pipeline-train-ricardo-puma/DataPull/2025-06-05-05-11-47-028/pre_exec_script_and_dependencies'\n",
      "WARNING:sagemaker.workflow.utilities:Popping out 'TrainingJobName' from the pipeline definition by default since it will be overridden at pipeline execution time. Please utilize the PipelineDefinitionConfig to persist this field in the pipeline definition if desired.\n",
      "2025-06-05 05:11:48,067 sagemaker.remote_function INFO     Uploading serialized function code to s3://sagemaker-us-east-1-654654589924/pipeline-train-ricardo-puma/ModelTraining/2025-06-05-05-11-47-028/function\n",
      "2025-06-05 05:11:48,130 sagemaker.remote_function INFO     Uploading serialized function arguments to s3://sagemaker-us-east-1-654654589924/pipeline-train-ricardo-puma/ModelTraining/2025-06-05-05-11-47-028/arguments\n",
      "2025-06-05 05:11:48,216 sagemaker.remote_function INFO     Copied dependencies file at './model_training_requirements.txt' to '/tmp/tmp5jbd1y1u/model_training_requirements.txt'\n",
      "2025-06-05 05:11:48,239 sagemaker.remote_function INFO     Successfully uploaded dependencies and pre execution scripts to 's3://sagemaker-us-east-1-654654589924/pipeline-train-ricardo-puma/ModelTraining/2025-06-05-05-11-47-028/pre_exec_script_and_dependencies'\n",
      "WARNING:sagemaker.workflow.utilities:Popping out 'TrainingJobName' from the pipeline definition by default since it will be overridden at pipeline execution time. Please utilize the PipelineDefinitionConfig to persist this field in the pipeline definition if desired.\n",
      "2025-06-05 05:11:48,242 sagemaker.remote_function INFO     Uploading serialized function code to s3://sagemaker-us-east-1-654654589924/pipeline-train-ricardo-puma/ModelRegistration/2025-06-05-05-11-47-028/function\n",
      "2025-06-05 05:11:48,298 sagemaker.remote_function INFO     Uploading serialized function arguments to s3://sagemaker-us-east-1-654654589924/pipeline-train-ricardo-puma/ModelRegistration/2025-06-05-05-11-47-028/arguments\n",
      "2025-06-05 05:11:48,362 sagemaker.remote_function INFO     Copied dependencies file at './model_training_requirements.txt' to '/tmp/tmpcnv__e1v/model_training_requirements.txt'\n",
      "2025-06-05 05:11:48,393 sagemaker.remote_function INFO     Successfully uploaded dependencies and pre execution scripts to 's3://sagemaker-us-east-1-654654589924/pipeline-train-ricardo-puma/ModelRegistration/2025-06-05-05-11-47-028/pre_exec_script_and_dependencies'\n",
      "WARNING:sagemaker.workflow.utilities:Popping out 'TrainingJobName' from the pipeline definition by default since it will be overridden at pipeline execution time. Please utilize the PipelineDefinitionConfig to persist this field in the pipeline definition if desired.\n",
      "2025-06-05 05:11:48,395 sagemaker.remote_function INFO     Uploading serialized function code to s3://sagemaker-us-east-1-654654589924/pipeline-train-ricardo-puma/ModelEvaluation/2025-06-05-05-11-47-028/function\n",
      "2025-06-05 05:11:48,452 sagemaker.remote_function INFO     Uploading serialized function arguments to s3://sagemaker-us-east-1-654654589924/pipeline-train-ricardo-puma/ModelEvaluation/2025-06-05-05-11-47-028/arguments\n",
      "2025-06-05 05:11:48,521 sagemaker.remote_function INFO     Copied dependencies file at './model_training_requirements.txt' to '/tmp/tmppmpf61y2/model_training_requirements.txt'\n",
      "2025-06-05 05:11:48,545 sagemaker.remote_function INFO     Successfully uploaded dependencies and pre execution scripts to 's3://sagemaker-us-east-1-654654589924/pipeline-train-ricardo-puma/ModelEvaluation/2025-06-05-05-11-47-028/pre_exec_script_and_dependencies'\n",
      "WARNING:sagemaker.workflow.utilities:Popping out 'TrainingJobName' from the pipeline definition by default since it will be overridden at pipeline execution time. Please utilize the PipelineDefinitionConfig to persist this field in the pipeline definition if desired.\n",
      "2025-06-05 05:11:48,886 sagemaker.remote_function INFO     Uploading serialized function code to s3://sagemaker-us-east-1-654654589924/pipeline-train-ricardo-puma/DataPull/2025-06-05-05-11-48-886/function\n",
      "2025-06-05 05:11:48,986 sagemaker.remote_function INFO     Uploading serialized function arguments to s3://sagemaker-us-east-1-654654589924/pipeline-train-ricardo-puma/DataPull/2025-06-05-05-11-48-886/arguments\n",
      "2025-06-05 05:11:49,259 sagemaker.remote_function INFO     Copied dependencies file at './data_pull_requirements.txt' to '/tmp/tmpe_kemo6q/data_pull_requirements.txt'\n",
      "2025-06-05 05:11:49,283 sagemaker.remote_function INFO     Successfully uploaded dependencies and pre execution scripts to 's3://sagemaker-us-east-1-654654589924/pipeline-train-ricardo-puma/DataPull/2025-06-05-05-11-48-886/pre_exec_script_and_dependencies'\n",
      "WARNING:sagemaker.workflow.utilities:Popping out 'TrainingJobName' from the pipeline definition by default since it will be overridden at pipeline execution time. Please utilize the PipelineDefinitionConfig to persist this field in the pipeline definition if desired.\n",
      "2025-06-05 05:11:49,286 sagemaker.remote_function INFO     Uploading serialized function code to s3://sagemaker-us-east-1-654654589924/pipeline-train-ricardo-puma/ModelTraining/2025-06-05-05-11-48-886/function\n",
      "2025-06-05 05:11:49,359 sagemaker.remote_function INFO     Uploading serialized function arguments to s3://sagemaker-us-east-1-654654589924/pipeline-train-ricardo-puma/ModelTraining/2025-06-05-05-11-48-886/arguments\n",
      "2025-06-05 05:11:49,417 sagemaker.remote_function INFO     Copied dependencies file at './model_training_requirements.txt' to '/tmp/tmp5mu_0lmm/model_training_requirements.txt'\n",
      "2025-06-05 05:11:49,444 sagemaker.remote_function INFO     Successfully uploaded dependencies and pre execution scripts to 's3://sagemaker-us-east-1-654654589924/pipeline-train-ricardo-puma/ModelTraining/2025-06-05-05-11-48-886/pre_exec_script_and_dependencies'\n",
      "WARNING:sagemaker.workflow.utilities:Popping out 'TrainingJobName' from the pipeline definition by default since it will be overridden at pipeline execution time. Please utilize the PipelineDefinitionConfig to persist this field in the pipeline definition if desired.\n",
      "2025-06-05 05:11:49,446 sagemaker.remote_function INFO     Uploading serialized function code to s3://sagemaker-us-east-1-654654589924/pipeline-train-ricardo-puma/ModelRegistration/2025-06-05-05-11-48-886/function\n",
      "2025-06-05 05:11:49,531 sagemaker.remote_function INFO     Uploading serialized function arguments to s3://sagemaker-us-east-1-654654589924/pipeline-train-ricardo-puma/ModelRegistration/2025-06-05-05-11-48-886/arguments\n",
      "2025-06-05 05:11:49,603 sagemaker.remote_function INFO     Copied dependencies file at './model_training_requirements.txt' to '/tmp/tmpo2lqk8d7/model_training_requirements.txt'\n",
      "2025-06-05 05:11:49,627 sagemaker.remote_function INFO     Successfully uploaded dependencies and pre execution scripts to 's3://sagemaker-us-east-1-654654589924/pipeline-train-ricardo-puma/ModelRegistration/2025-06-05-05-11-48-886/pre_exec_script_and_dependencies'\n",
      "WARNING:sagemaker.workflow.utilities:Popping out 'TrainingJobName' from the pipeline definition by default since it will be overridden at pipeline execution time. Please utilize the PipelineDefinitionConfig to persist this field in the pipeline definition if desired.\n",
      "2025-06-05 05:11:49,629 sagemaker.remote_function INFO     Uploading serialized function code to s3://sagemaker-us-east-1-654654589924/pipeline-train-ricardo-puma/ModelEvaluation/2025-06-05-05-11-48-886/function\n",
      "2025-06-05 05:11:49,691 sagemaker.remote_function INFO     Uploading serialized function arguments to s3://sagemaker-us-east-1-654654589924/pipeline-train-ricardo-puma/ModelEvaluation/2025-06-05-05-11-48-886/arguments\n",
      "2025-06-05 05:11:49,751 sagemaker.remote_function INFO     Copied dependencies file at './model_training_requirements.txt' to '/tmp/tmpgikdckhe/model_training_requirements.txt'\n",
      "2025-06-05 05:11:49,775 sagemaker.remote_function INFO     Successfully uploaded dependencies and pre execution scripts to 's3://sagemaker-us-east-1-654654589924/pipeline-train-ricardo-puma/ModelEvaluation/2025-06-05-05-11-48-886/pre_exec_script_and_dependencies'\n",
      "WARNING:sagemaker.workflow.utilities:Popping out 'TrainingJobName' from the pipeline definition by default since it will be overridden at pipeline execution time. Please utilize the PipelineDefinitionConfig to persist this field in the pipeline definition if desired.\n"
     ]
    },
    {
     "data": {
      "text/plain": [
       "{'PipelineArn': 'arn:aws:sagemaker:us-east-1:654654589924:pipeline/pipeline-train-ricardo-puma',\n",
       " 'ResponseMetadata': {'RequestId': '8da1ba58-8c6b-415c-abf6-e7a15fd449ef',\n",
       "  'HTTPStatusCode': 200,\n",
       "  'HTTPHeaders': {'x-amzn-requestid': '8da1ba58-8c6b-415c-abf6-e7a15fd449ef',\n",
       "   'content-type': 'application/x-amz-json-1.1',\n",
       "   'content-length': '95',\n",
       "   'date': 'Thu, 05 Jun 2025 05:11:50 GMT'},\n",
       "  'RetryAttempts': 0}}"
      ]
     },
     "execution_count": 24,
     "metadata": {},
     "output_type": "execute_result"
    }
   ],
   "source": [
    "pipeline = Pipeline(name=pipeline_name,\n",
    "                    steps=[data_pull_step, model_training_step,\n",
    "                           conditional_register_step],\n",
    "                    parameters=[cod_month_start, cod_month_end])\n",
    "pipeline.upsert(role_arn=role)"
   ]
  },
  {
   "cell_type": "code",
   "execution_count": 25,
   "id": "8a16eec8-8a74-4cdc-99d9-9f5291ebb63b",
   "metadata": {
    "execution": {
     "iopub.execute_input": "2025-06-05T05:12:03.596658Z",
     "iopub.status.busy": "2025-06-05T05:12:03.595683Z",
     "iopub.status.idle": "2025-06-05T05:12:03.816598Z",
     "shell.execute_reply": "2025-06-05T05:12:03.815514Z",
     "shell.execute_reply.started": "2025-06-05T05:12:03.596627Z"
    }
   },
   "outputs": [
    {
     "data": {
      "text/plain": [
       "_PipelineExecution(arn='arn:aws:sagemaker:us-east-1:654654589924:pipeline/pipeline-train-ricardo-puma/execution/cph56s3eho1e', sagemaker_session=<sagemaker.session.Session object at 0x7f4a382e0da0>)"
      ]
     },
     "execution_count": 25,
     "metadata": {},
     "output_type": "execute_result"
    }
   ],
   "source": [
    "pipeline.start(parameters={\"PeriodoCargaInicio\": 202411,\n",
    "                           \"PeriodoCargaFin\": 202412},\n",
    "               execution_display_name=\"test-training-full-2\",\n",
    "               execution_description=\"Testando training full 2\")"
   ]
  },
  {
   "cell_type": "code",
   "execution_count": null,
   "id": "166e793a-7882-4a82-9f27-664d1f38f037",
   "metadata": {},
   "outputs": [],
   "source": [
    "# execution = pipeline.start()\n",
    "# execution.describe()\n",
    "# execution.wait()\n",
    "# execution.list_steps()"
   ]
  },
  {
   "cell_type": "code",
   "execution_count": null,
   "id": "a98a0743-7f87-4770-9939-2f1b7625c2c5",
   "metadata": {},
   "outputs": [],
   "source": []
  }
 ],
 "metadata": {
  "kernelspec": {
   "display_name": "Python 3 (ipykernel)",
   "language": "python",
   "name": "python3"
  },
  "language_info": {
   "codemirror_mode": {
    "name": "ipython",
    "version": 3
   },
   "file_extension": ".py",
   "mimetype": "text/x-python",
   "name": "python",
   "nbconvert_exporter": "python",
   "pygments_lexer": "ipython3",
   "version": "3.12.9"
  }
 },
 "nbformat": 4,
 "nbformat_minor": 5
}
