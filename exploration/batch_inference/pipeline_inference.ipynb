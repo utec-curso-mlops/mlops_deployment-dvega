{
 "cells": [
  {
   "cell_type": "code",
   "execution_count": 6,
   "id": "3e64f74b-ae16-4a86-b06a-00b974c068d1",
   "metadata": {
    "execution": {
     "iopub.execute_input": "2025-06-05T04:51:50.675618Z",
     "iopub.status.busy": "2025-06-05T04:51:50.675344Z",
     "iopub.status.idle": "2025-06-05T04:51:52.797809Z",
     "shell.execute_reply": "2025-06-05T04:51:52.797102Z",
     "shell.execute_reply.started": "2025-06-05T04:51:50.675600Z"
    }
   },
   "outputs": [
    {
     "name": "stdout",
     "output_type": "stream",
     "text": [
      "sagemaker.config INFO - Not applying SDK defaults from location: /etc/xdg/sagemaker/config.yaml\n",
      "sagemaker.config INFO - Not applying SDK defaults from location: /home/sagemaker-user/.config/sagemaker/config.yaml\n"
     ]
    }
   ],
   "source": [
    "from sagemaker.workflow.function_step import step\n",
    "from sagemaker.workflow.pipeline import Pipeline\n",
    "import sagemaker\n",
    "from sagemaker.workflow.parameters import ParameterInteger\n",
    "from sagemaker.workflow.execution_variables import ExecutionVariables\n",
    "import utils"
   ]
  },
  {
   "cell_type": "markdown",
   "id": "6f9c4deb-e967-49b7-891a-2cda3fd68a21",
   "metadata": {},
   "source": [
    "# GLOBAL VARIABLES"
   ]
  },
  {
   "cell_type": "code",
   "execution_count": 7,
   "id": "6088484b-5726-4354-9cf8-b2b59d7329de",
   "metadata": {
    "execution": {
     "iopub.execute_input": "2025-06-05T04:52:36.371958Z",
     "iopub.status.busy": "2025-06-05T04:52:36.371379Z",
     "iopub.status.idle": "2025-06-05T04:52:36.935710Z",
     "shell.execute_reply": "2025-06-05T04:52:36.934975Z",
     "shell.execute_reply.started": "2025-06-05T04:52:36.371929Z"
    }
   },
   "outputs": [],
   "source": [
    "#User\n",
    "user = utils.get_username()\n",
    "\n",
    "# Sagemaker configuration\n",
    "role = sagemaker.get_execution_role()\n",
    "default_bucket = \"mlops-utec\"\n",
    "default_prefix = f\"sagemaker/credit-card-fraud-detection/{user}\"\n",
    "default_path = default_bucket + \"/\" + default_prefix\n",
    "sagemaker_session = sagemaker.Session(default_bucket=default_bucket,\n",
    "                                      default_bucket_prefix=default_prefix)\n",
    "#Pipeline configuration\n",
    "instance_type = \"ml.m5.large\"\n",
    "pipeline_name = f\"pipeline-inference-{user}\"\n",
    "model_name = f\"credit-card-fraud-detection-{user}\"\n",
    "model_version = \"latest\"\n",
    "cod_month = ParameterInteger(name=\"PeriodoCarga\")\n",
    "\n",
    "#MLFlow configuration\n",
    "tracking_server_arn = 'arn:aws:sagemaker:us-east-1:654654589924:mlflow-tracking-server/mlops-utec-mlflow-server'\n",
    "experiment_name = f\"pipeline-inference-exp-{user}\""
   ]
  },
  {
   "cell_type": "markdown",
   "id": "7bdd1eb6-4f06-4b7f-bc99-384b6fc4f9c7",
   "metadata": {},
   "source": [
    "# DATA PULL"
   ]
  },
  {
   "cell_type": "code",
   "execution_count": 9,
   "id": "dd6b0ad0-1479-428f-a620-c4ac24c54510",
   "metadata": {
    "execution": {
     "iopub.execute_input": "2025-06-05T04:53:07.203168Z",
     "iopub.status.busy": "2025-06-05T04:53:07.202890Z",
     "iopub.status.idle": "2025-06-05T04:53:07.208886Z",
     "shell.execute_reply": "2025-06-05T04:53:07.207795Z",
     "shell.execute_reply.started": "2025-06-05T04:53:07.203148Z"
    }
   },
   "outputs": [],
   "source": [
    "@step(\n",
    "    name=\"DataPull\",\n",
    "    instance_type=instance_type,\n",
    "    dependencies=\"./data_pull_requirements.txt\"\n",
    ")\n",
    "def data_pull(experiment_name: str, run_name: str,\n",
    "              cod_month: int) -> tuple[str, str, str]:\n",
    "    import awswrangler as wr\n",
    "    import mlflow\n",
    "\n",
    "    mlflow.set_tracking_uri(tracking_server_arn)\n",
    "    mlflow.set_experiment(experiment_name)\n",
    "    query = \"\"\"\n",
    "        SELECT  transaction_id\n",
    "                ,amount\n",
    "                ,merchant_category\n",
    "                ,merchant_country\n",
    "                ,card_present\n",
    "                ,is_fraud\n",
    "                ,cod_month\n",
    "                ,trx_vel_last_1mths\n",
    "                ,trx_vel_last_2mths\n",
    "                ,amt_vel_last_1mths\n",
    "                ,amt_vel_last_2mths\n",
    "        FROM    RISK_MANAGEMENT.CREDIT_CARD_TRANSACTIONS\n",
    "        WHERE   cod_month = {}\n",
    "    \"\"\".format(cod_month)\n",
    "\n",
    "    inf_raw_s3_path = f\"s3://{default_path}/inf-raw-data/{cod_month}.csv\"\n",
    "    with mlflow.start_run(run_name=run_name) as run:\n",
    "        run_id = run.info.run_id\n",
    "        with mlflow.start_run(run_name=\"DataPull\", nested=True):\n",
    "            df = wr.athena.read_sql_query(sql=query, database=\"risk_management\")\n",
    "            df.to_csv(inf_raw_s3_path, index=False)\n",
    "            mlflow.log_input(\n",
    "                mlflow.data.from_pandas(df, inf_raw_s3_path),\n",
    "                context=\"DataPull\"\n",
    "            )\n",
    "    return inf_raw_s3_path, experiment_name, run_id"
   ]
  },
  {
   "cell_type": "markdown",
   "id": "80eae67c-ec22-4618-bf18-1a63b84be990",
   "metadata": {},
   "source": [
    "# MODEL INFERENCE"
   ]
  },
  {
   "cell_type": "code",
   "execution_count": 10,
   "id": "25a09b95-69a5-4cf8-8634-7026d3f392ce",
   "metadata": {
    "execution": {
     "iopub.execute_input": "2025-06-05T04:53:18.250599Z",
     "iopub.status.busy": "2025-06-05T04:53:18.250303Z",
     "iopub.status.idle": "2025-06-05T04:53:18.257269Z",
     "shell.execute_reply": "2025-06-05T04:53:18.256327Z",
     "shell.execute_reply.started": "2025-06-05T04:53:18.250579Z"
    }
   },
   "outputs": [],
   "source": [
    "@step(\n",
    "    name=\"ModelInference\",\n",
    "    instance_type=instance_type,\n",
    "    dependencies=\"./model_training_requirements.txt\"\n",
    ")\n",
    "def model_inference(inf_raw_s3_path: str, experiment_name: str,\n",
    "                    run_id: str, cod_month: int) -> tuple[str, str, str]:\n",
    "    import pandas as pd\n",
    "    import mlflow\n",
    "\n",
    "    mlflow.set_tracking_uri(tracking_server_arn)\n",
    "    mlflow.set_experiment(experiment_name)\n",
    "    FEATURES = ['card_present', 'trx_vel_last_1mths', 'trx_vel_last_2mths',\n",
    "                'amt_vel_last_1mths', 'amt_vel_last_2mths']\n",
    "    model_uri = f\"models:/{model_name}/{model_version}\"\n",
    "    df = pd.read_csv(inf_raw_s3_path)\n",
    "    X = df[FEATURES]\n",
    "    model = mlflow.xgboost.load_model(model_uri)\n",
    "    df[\"prob\"] = model.predict_proba(X)[:, 1]\n",
    "    inf_proc_s3_path = f\"s3://{default_path}/inf-proc-data/{cod_month}.csv\"\n",
    "\n",
    "    with mlflow.start_run(run_id=run_id):\n",
    "        with mlflow.start_run(run_name=\"ModelInference\", nested=True):\n",
    "            df.to_csv(inf_proc_s3_path, index=False)\n",
    "            mlflow.log_input(\n",
    "                mlflow.data.from_pandas(df, inf_proc_s3_path),\n",
    "                context=\"ModelInference\"\n",
    "            )\n",
    "    return inf_proc_s3_path, experiment_name, run_id"
   ]
  },
  {
   "cell_type": "markdown",
   "id": "6c792f23-b6a4-4b76-b07f-7e9623847add",
   "metadata": {},
   "source": [
    "# DATA PUSH"
   ]
  },
  {
   "cell_type": "code",
   "execution_count": 11,
   "id": "48f05087-e9f4-4939-b494-8dfd1b7c79c0",
   "metadata": {
    "execution": {
     "iopub.execute_input": "2025-06-05T04:53:31.407217Z",
     "iopub.status.busy": "2025-06-05T04:53:31.406926Z",
     "iopub.status.idle": "2025-06-05T04:53:31.414591Z",
     "shell.execute_reply": "2025-06-05T04:53:31.413682Z",
     "shell.execute_reply.started": "2025-06-05T04:53:31.407195Z"
    }
   },
   "outputs": [],
   "source": [
    "@step(\n",
    "    name=\"DataPush\",\n",
    "    instance_type=instance_type,\n",
    "    dependencies=\"./data_pull_requirements.txt\"\n",
    ")\n",
    "def data_push(inf_proc_s3_path: str,experiment_name: str,run_id: str, cod_month: int):\n",
    "    \n",
    "    import pandas as pd\n",
    "    import mlflow\n",
    "    import numpy as np\n",
    "    from datetime import datetime\n",
    "    import pytz\n",
    "    import awswrangler as wr\n",
    "\n",
    "    ID_COL = \"transaction_id\"\n",
    "    TIME_COL = \"cod_month\"\n",
    "    PRED_COL = \"prob\"\n",
    "    mlflow.set_tracking_uri(tracking_server_arn)\n",
    "    mlflow.set_experiment(experiment_name)\n",
    "\n",
    "    df = pd.read_csv(inf_proc_s3_path)\n",
    "    df['fraud_profile'] = np.where(df[PRED_COL] >= 0.415, 'High risk',\n",
    "                                   np.where(df[PRED_COL] >= 0.285, 'Medium risk',\n",
    "                                   'Low risk'))\n",
    "\n",
    "    df['model'] = model_name\n",
    "    timezone = pytz.timezone(\"America/Lima\")\n",
    "    df['load_date'] = datetime.now(timezone).strftime(\"%Y%m%d\")\n",
    "    df['order'] = df.prob.rank(method='first', ascending=False).astype(int)\n",
    "\n",
    "    inf_posproc_s3_path = f\"s3://{default_path}/inf-posproc-data\"\n",
    "    inf_posproc_s3_path_partition = inf_posproc_s3_path + f'/{TIME_COL}={cod_month}/output.parquet'\n",
    "    database = 'risk_management'\n",
    "    table_name = database + f'.fraud_detection_{user.replace(\"-\", \"_\")}'\n",
    "\n",
    "    # Pushing data to S3 path\n",
    "    df = df[[ID_COL, PRED_COL, 'model','fraud_profile','load_date', 'order', TIME_COL]] \n",
    "    df.to_parquet(inf_posproc_s3_path_partition, engine='pyarrow', compression='snappy')\n",
    "\n",
    "    # Creating table\n",
    "    ddl = f\"\"\"\n",
    "    CREATE EXTERNAL TABLE IF NOT EXISTS {table_name} (\n",
    "    {ID_COL} string,\n",
    "    {PRED_COL} double,\n",
    "    model string,\n",
    "    fraud_profile string,\n",
    "    load_date string,\n",
    "    order int\n",
    "    )\n",
    "    PARTITIONED BY ({TIME_COL} int)\n",
    "    STORED AS parquet\n",
    "    LOCATION '{inf_posproc_s3_path}'\n",
    "    TBLPROPERTIES ('parquet.compression'='SNAPPY')\n",
    "    \"\"\"\n",
    "    query_exec_id = wr.athena.start_query_execution(sql=ddl, database=database)\n",
    "    wr.athena.wait_query(query_execution_id=query_exec_id)\n",
    "\n",
    "    with mlflow.start_run(run_id=run_id):\n",
    "        with mlflow.start_run(run_name=\"DataPush\", nested=True):\n",
    "                mlflow.log_input(\n",
    "                mlflow.data.from_pandas(df, inf_posproc_s3_path_partition),\n",
    "                context=\"DataPush\"\n",
    "            )\n",
    "    # Refreshing partition\n",
    "    dml = f\"MSCK REPAIR TABLE {table_name}\"\n",
    "    query_exec_id = wr.athena.start_query_execution(sql=dml, database=database)\n",
    "    wr.athena.wait_query(query_execution_id=query_exec_id)"
   ]
  },
  {
   "cell_type": "markdown",
   "id": "9526f6b4-8eb5-4464-82a1-19e54aefa8f9",
   "metadata": {},
   "source": [
    "# PIPELINE"
   ]
  },
  {
   "cell_type": "code",
   "execution_count": 12,
   "id": "1814aafa-4511-46bd-b2b1-3672bfee2d36",
   "metadata": {
    "execution": {
     "iopub.execute_input": "2025-06-05T04:53:35.453282Z",
     "iopub.status.busy": "2025-06-05T04:53:35.452926Z",
     "iopub.status.idle": "2025-06-05T04:53:35.464290Z",
     "shell.execute_reply": "2025-06-05T04:53:35.463315Z",
     "shell.execute_reply.started": "2025-06-05T04:53:35.453258Z"
    }
   },
   "outputs": [],
   "source": [
    "data_pull_step = data_pull(experiment_name=experiment_name,\n",
    "                           run_name=ExecutionVariables.PIPELINE_EXECUTION_ID,\n",
    "                           cod_month=cod_month)\n",
    "\n",
    "model_inference_step = model_inference(inf_raw_s3_path=data_pull_step[0],\n",
    "                                     experiment_name=data_pull_step[1],\n",
    "                                     run_id=data_pull_step[2],\n",
    "                                       cod_month=cod_month)\n",
    "\n",
    "data_push_step = data_push(inf_proc_s3_path=model_inference_step[0],\n",
    "                                     experiment_name=model_inference_step[1],\n",
    "                                     run_id=model_inference_step[2],\n",
    "                                      cod_month=cod_month)"
   ]
  },
  {
   "cell_type": "code",
   "execution_count": 13,
   "id": "f26a5824-adb6-41bd-9c69-69b639c4c9fa",
   "metadata": {
    "execution": {
     "iopub.execute_input": "2025-06-05T04:53:39.234697Z",
     "iopub.status.busy": "2025-06-05T04:53:39.234083Z",
     "iopub.status.idle": "2025-06-05T04:53:40.821961Z",
     "shell.execute_reply": "2025-06-05T04:53:40.821333Z",
     "shell.execute_reply.started": "2025-06-05T04:53:39.234668Z"
    }
   },
   "outputs": [
    {
     "name": "stderr",
     "output_type": "stream",
     "text": [
      "2025-06-05 04:53:39,615 sagemaker.remote_function INFO     Uploading serialized function code to s3://sagemaker-us-east-1-654654589924/pipeline-inference-ricardo-puma/DataPull/2025-06-05-04-53-39-392/function\n",
      "2025-06-05 04:53:39,685 sagemaker.remote_function INFO     Uploading serialized function arguments to s3://sagemaker-us-east-1-654654589924/pipeline-inference-ricardo-puma/DataPull/2025-06-05-04-53-39-392/arguments\n",
      "2025-06-05 04:53:39,945 sagemaker.remote_function INFO     Copied dependencies file at './data_pull_requirements.txt' to '/tmp/tmp_tkh579k/data_pull_requirements.txt'\n",
      "2025-06-05 04:53:39,977 sagemaker.remote_function INFO     Successfully uploaded dependencies and pre execution scripts to 's3://sagemaker-us-east-1-654654589924/pipeline-inference-ricardo-puma/DataPull/2025-06-05-04-53-39-392/pre_exec_script_and_dependencies'\n",
      "WARNING:sagemaker.workflow.utilities:Popping out 'TrainingJobName' from the pipeline definition by default since it will be overridden at pipeline execution time. Please utilize the PipelineDefinitionConfig to persist this field in the pipeline definition if desired.\n",
      "2025-06-05 04:53:39,981 sagemaker.remote_function INFO     Uploading serialized function code to s3://sagemaker-us-east-1-654654589924/pipeline-inference-ricardo-puma/ModelInference/2025-06-05-04-53-39-392/function\n",
      "2025-06-05 04:53:40,080 sagemaker.remote_function INFO     Uploading serialized function arguments to s3://sagemaker-us-east-1-654654589924/pipeline-inference-ricardo-puma/ModelInference/2025-06-05-04-53-39-392/arguments\n",
      "2025-06-05 04:53:40,171 sagemaker.remote_function INFO     Copied dependencies file at './model_training_requirements.txt' to '/tmp/tmpb16wdf8e/model_training_requirements.txt'\n",
      "2025-06-05 04:53:40,202 sagemaker.remote_function INFO     Successfully uploaded dependencies and pre execution scripts to 's3://sagemaker-us-east-1-654654589924/pipeline-inference-ricardo-puma/ModelInference/2025-06-05-04-53-39-392/pre_exec_script_and_dependencies'\n",
      "WARNING:sagemaker.workflow.utilities:Popping out 'TrainingJobName' from the pipeline definition by default since it will be overridden at pipeline execution time. Please utilize the PipelineDefinitionConfig to persist this field in the pipeline definition if desired.\n",
      "2025-06-05 04:53:40,205 sagemaker.remote_function INFO     Uploading serialized function code to s3://sagemaker-us-east-1-654654589924/pipeline-inference-ricardo-puma/DataPush/2025-06-05-04-53-39-392/function\n",
      "2025-06-05 04:53:40,273 sagemaker.remote_function INFO     Uploading serialized function arguments to s3://sagemaker-us-east-1-654654589924/pipeline-inference-ricardo-puma/DataPush/2025-06-05-04-53-39-392/arguments\n",
      "2025-06-05 04:53:40,367 sagemaker.remote_function INFO     Copied dependencies file at './data_pull_requirements.txt' to '/tmp/tmptd3e30hq/data_pull_requirements.txt'\n",
      "2025-06-05 04:53:40,393 sagemaker.remote_function INFO     Successfully uploaded dependencies and pre execution scripts to 's3://sagemaker-us-east-1-654654589924/pipeline-inference-ricardo-puma/DataPush/2025-06-05-04-53-39-392/pre_exec_script_and_dependencies'\n",
      "WARNING:sagemaker.workflow.utilities:Popping out 'TrainingJobName' from the pipeline definition by default since it will be overridden at pipeline execution time. Please utilize the PipelineDefinitionConfig to persist this field in the pipeline definition if desired.\n"
     ]
    },
    {
     "data": {
      "text/plain": [
       "{'PipelineArn': 'arn:aws:sagemaker:us-east-1:654654589924:pipeline/pipeline-inference-ricardo-puma',\n",
       " 'ResponseMetadata': {'RequestId': '4b586034-ecae-4c1d-a0e8-5e3f33fa1864',\n",
       "  'HTTPStatusCode': 200,\n",
       "  'HTTPHeaders': {'x-amzn-requestid': '4b586034-ecae-4c1d-a0e8-5e3f33fa1864',\n",
       "   'content-type': 'application/x-amz-json-1.1',\n",
       "   'content-length': '99',\n",
       "   'date': 'Thu, 05 Jun 2025 04:53:40 GMT'},\n",
       "  'RetryAttempts': 0}}"
      ]
     },
     "execution_count": 13,
     "metadata": {},
     "output_type": "execute_result"
    }
   ],
   "source": [
    "pipeline = Pipeline(name=pipeline_name,\n",
    "                    steps=[data_pull_step, model_inference_step,data_push_step],\n",
    "                    parameters=[cod_month])\n",
    "pipeline.upsert(role_arn=role)"
   ]
  },
  {
   "cell_type": "code",
   "execution_count": 14,
   "id": "8a16eec8-8a74-4cdc-99d9-9f5291ebb63b",
   "metadata": {
    "execution": {
     "iopub.execute_input": "2025-06-05T04:53:48.911194Z",
     "iopub.status.busy": "2025-06-05T04:53:48.910876Z",
     "iopub.status.idle": "2025-06-05T04:53:49.113674Z",
     "shell.execute_reply": "2025-06-05T04:53:49.113079Z",
     "shell.execute_reply.started": "2025-06-05T04:53:48.911167Z"
    }
   },
   "outputs": [
    {
     "data": {
      "text/plain": [
       "_PipelineExecution(arn='arn:aws:sagemaker:us-east-1:654654589924:pipeline/pipeline-inference-ricardo-puma/execution/nvh3prgyg8jf', sagemaker_session=<sagemaker.session.Session object at 0x7fa0212c1c40>)"
      ]
     },
     "execution_count": 14,
     "metadata": {},
     "output_type": "execute_result"
    }
   ],
   "source": [
    "pipeline.start(parameters={\"PeriodoCarga\": 202501},\n",
    "               execution_display_name=\"test-inference-full-1\",\n",
    "               execution_description=\"Testando inferece full 1\")"
   ]
  },
  {
   "cell_type": "code",
   "execution_count": null,
   "id": "166e793a-7882-4a82-9f27-664d1f38f037",
   "metadata": {},
   "outputs": [],
   "source": [
    "# execution = pipeline.start()\n",
    "# execution.describe()\n",
    "# execution.wait()\n",
    "# execution.list_steps()"
   ]
  }
 ],
 "metadata": {
  "kernelspec": {
   "display_name": "Python 3 (ipykernel)",
   "language": "python",
   "name": "python3"
  },
  "language_info": {
   "codemirror_mode": {
    "name": "ipython",
    "version": 3
   },
   "file_extension": ".py",
   "mimetype": "text/x-python",
   "name": "python",
   "nbconvert_exporter": "python",
   "pygments_lexer": "ipython3",
   "version": "3.12.9"
  }
 },
 "nbformat": 4,
 "nbformat_minor": 5
}
